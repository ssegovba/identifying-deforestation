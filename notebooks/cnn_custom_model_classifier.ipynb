{
  "nbformat": 4,
  "nbformat_minor": 0,
  "metadata": {
    "colab": {
      "provenance": [],
      "gpuType": "T4",
      "authorship_tag": "ABX9TyPV4BkZk8r5J9eQdSteMjaH",
      "include_colab_link": true
    },
    "kernelspec": {
      "name": "python3",
      "display_name": "Python 3"
    },
    "language_info": {
      "name": "python"
    },
    "accelerator": "GPU"
  },
  "cells": [
    {
      "cell_type": "markdown",
      "metadata": {
        "id": "view-in-github",
        "colab_type": "text"
      },
      "source": [
        "<a href=\"https://colab.research.google.com/github/ssegovba/identifying-deforestation/blob/main/notebooks/cnn_custom_model_classifier.ipynb\" target=\"_parent\"><img src=\"https://colab.research.google.com/assets/colab-badge.svg\" alt=\"Open In Colab\"/></a>"
      ]
    },
    {
      "cell_type": "markdown",
      "source": [
        "# CNN Model on Amazon Rainforest Data for Deforestation Tracking\n",
        "*Santiago Segovia*"
      ],
      "metadata": {
        "id": "3r_gD7Gx51ar"
      }
    },
    {
      "cell_type": "code",
      "source": [
        "import numpy as np\n",
        "import pandas as pd\n",
        "from tensorflow.keras.preprocessing.image import ImageDataGenerator\n",
        "from tensorflow.keras.utils import to_categorical\n",
        "from sklearn.preprocessing import MultiLabelBinarizer\n",
        "from tensorflow.keras.preprocessing import image\n",
        "import os\n",
        "\n",
        "from google.colab import drive"
      ],
      "metadata": {
        "id": "KY0vOeKm6YH5"
      },
      "execution_count": 1,
      "outputs": []
    },
    {
      "cell_type": "code",
      "source": [
        "# Mount GDrive\n",
        "drive.mount(\"/content/drive\")"
      ],
      "metadata": {
        "colab": {
          "base_uri": "https://localhost:8080/"
        },
        "id": "NYxc0w3B6WtT",
        "outputId": "d897c06f-dac3-40aa-921f-3b228e7bb41c"
      },
      "execution_count": 2,
      "outputs": [
        {
          "output_type": "stream",
          "name": "stdout",
          "text": [
            "Mounted at /content/drive\n"
          ]
        }
      ]
    },
    {
      "cell_type": "markdown",
      "source": [
        "## I. Data Pre-processing"
      ],
      "metadata": {
        "id": "KVq-4Tm_7PTC"
      }
    },
    {
      "cell_type": "markdown",
      "source": [
        "### I.a Handling the Labels"
      ],
      "metadata": {
        "id": "8J3LcZBDmKO-"
      }
    },
    {
      "cell_type": "markdown",
      "source": [
        "We begin by loading the metadata that has the names of the labels:\n",
        "\n"
      ],
      "metadata": {
        "id": "VVwMIDTf8fPh"
      }
    },
    {
      "cell_type": "code",
      "source": [
        "data_path = \"/content/drive/Shareddrives/computer-vision-project/Data/Unzipped/planet/planet/\"\n",
        "train_path = \"/content/drive/Shareddrives/computer-vision-project/Data/Unzipped/planet/planet/train-jpg\"\n",
        "test_path = \"/content/drive/Shareddrives/computer-vision-project/Data/Unzipped/planet/planet/test-jpg\""
      ],
      "metadata": {
        "id": "eNcaVns87T8x"
      },
      "execution_count": 3,
      "outputs": []
    },
    {
      "cell_type": "code",
      "source": [
        "# Load the CSV file with the metadata\n",
        "labels_df = pd.read_csv(data_path + 'train_classes.csv')\n",
        "\n",
        "# Add extension so image names match file names\n",
        "labels_df['image_name'] = labels_df['image_name'].apply(lambda x: x + '.jpg')\n",
        "\n",
        "# Convert the space-separated tags into a list of tags\n",
        "labels_df['tags'] = labels_df['tags'].apply(lambda x: x.split())\n",
        "\n",
        "# Use a MultiLabelBinarizer for the tags for model training\n",
        "mlb = MultiLabelBinarizer()\n",
        "labels_df['encoded_tags'] = list(mlb.fit_transform(labels_df['tags']))\n",
        "labels_df = labels_df[:8000]"
      ],
      "metadata": {
        "id": "_jdsk4r2lPkJ"
      },
      "execution_count": 24,
      "outputs": []
    },
    {
      "cell_type": "code",
      "source": [
        "labels_df.head()"
      ],
      "metadata": {
        "colab": {
          "base_uri": "https://localhost:8080/",
          "height": 206
        },
        "id": "cM9VMqC4l5M2",
        "outputId": "b5e16bc9-196c-4671-eceb-b48d5aaa2963"
      },
      "execution_count": 5,
      "outputs": [
        {
          "output_type": "execute_result",
          "data": {
            "text/plain": [
              "    image_name                                             tags  \\\n",
              "0  train_0.jpg                                  [haze, primary]   \n",
              "1  train_1.jpg             [agriculture, clear, primary, water]   \n",
              "2  train_2.jpg                                 [clear, primary]   \n",
              "3  train_3.jpg                                 [clear, primary]   \n",
              "4  train_4.jpg  [agriculture, clear, habitation, primary, road]   \n",
              "\n",
              "                                        encoded_tags  \n",
              "0  [0, 0, 0, 0, 0, 0, 0, 0, 0, 0, 1, 0, 1, 0, 0, ...  \n",
              "1  [1, 0, 0, 0, 0, 1, 0, 0, 0, 0, 0, 0, 1, 0, 0, ...  \n",
              "2  [0, 0, 0, 0, 0, 1, 0, 0, 0, 0, 0, 0, 1, 0, 0, ...  \n",
              "3  [0, 0, 0, 0, 0, 1, 0, 0, 0, 0, 0, 0, 1, 0, 0, ...  \n",
              "4  [1, 0, 0, 0, 0, 1, 0, 0, 0, 1, 0, 0, 1, 1, 0, ...  "
            ],
            "text/html": [
              "\n",
              "  <div id=\"df-516d9db9-f749-4c8c-8f31-568c12fe8d38\" class=\"colab-df-container\">\n",
              "    <div>\n",
              "<style scoped>\n",
              "    .dataframe tbody tr th:only-of-type {\n",
              "        vertical-align: middle;\n",
              "    }\n",
              "\n",
              "    .dataframe tbody tr th {\n",
              "        vertical-align: top;\n",
              "    }\n",
              "\n",
              "    .dataframe thead th {\n",
              "        text-align: right;\n",
              "    }\n",
              "</style>\n",
              "<table border=\"1\" class=\"dataframe\">\n",
              "  <thead>\n",
              "    <tr style=\"text-align: right;\">\n",
              "      <th></th>\n",
              "      <th>image_name</th>\n",
              "      <th>tags</th>\n",
              "      <th>encoded_tags</th>\n",
              "    </tr>\n",
              "  </thead>\n",
              "  <tbody>\n",
              "    <tr>\n",
              "      <th>0</th>\n",
              "      <td>train_0.jpg</td>\n",
              "      <td>[haze, primary]</td>\n",
              "      <td>[0, 0, 0, 0, 0, 0, 0, 0, 0, 0, 1, 0, 1, 0, 0, ...</td>\n",
              "    </tr>\n",
              "    <tr>\n",
              "      <th>1</th>\n",
              "      <td>train_1.jpg</td>\n",
              "      <td>[agriculture, clear, primary, water]</td>\n",
              "      <td>[1, 0, 0, 0, 0, 1, 0, 0, 0, 0, 0, 0, 1, 0, 0, ...</td>\n",
              "    </tr>\n",
              "    <tr>\n",
              "      <th>2</th>\n",
              "      <td>train_2.jpg</td>\n",
              "      <td>[clear, primary]</td>\n",
              "      <td>[0, 0, 0, 0, 0, 1, 0, 0, 0, 0, 0, 0, 1, 0, 0, ...</td>\n",
              "    </tr>\n",
              "    <tr>\n",
              "      <th>3</th>\n",
              "      <td>train_3.jpg</td>\n",
              "      <td>[clear, primary]</td>\n",
              "      <td>[0, 0, 0, 0, 0, 1, 0, 0, 0, 0, 0, 0, 1, 0, 0, ...</td>\n",
              "    </tr>\n",
              "    <tr>\n",
              "      <th>4</th>\n",
              "      <td>train_4.jpg</td>\n",
              "      <td>[agriculture, clear, habitation, primary, road]</td>\n",
              "      <td>[1, 0, 0, 0, 0, 1, 0, 0, 0, 1, 0, 0, 1, 1, 0, ...</td>\n",
              "    </tr>\n",
              "  </tbody>\n",
              "</table>\n",
              "</div>\n",
              "    <div class=\"colab-df-buttons\">\n",
              "\n",
              "  <div class=\"colab-df-container\">\n",
              "    <button class=\"colab-df-convert\" onclick=\"convertToInteractive('df-516d9db9-f749-4c8c-8f31-568c12fe8d38')\"\n",
              "            title=\"Convert this dataframe to an interactive table.\"\n",
              "            style=\"display:none;\">\n",
              "\n",
              "  <svg xmlns=\"http://www.w3.org/2000/svg\" height=\"24px\" viewBox=\"0 -960 960 960\">\n",
              "    <path d=\"M120-120v-720h720v720H120Zm60-500h600v-160H180v160Zm220 220h160v-160H400v160Zm0 220h160v-160H400v160ZM180-400h160v-160H180v160Zm440 0h160v-160H620v160ZM180-180h160v-160H180v160Zm440 0h160v-160H620v160Z\"/>\n",
              "  </svg>\n",
              "    </button>\n",
              "\n",
              "  <style>\n",
              "    .colab-df-container {\n",
              "      display:flex;\n",
              "      gap: 12px;\n",
              "    }\n",
              "\n",
              "    .colab-df-convert {\n",
              "      background-color: #E8F0FE;\n",
              "      border: none;\n",
              "      border-radius: 50%;\n",
              "      cursor: pointer;\n",
              "      display: none;\n",
              "      fill: #1967D2;\n",
              "      height: 32px;\n",
              "      padding: 0 0 0 0;\n",
              "      width: 32px;\n",
              "    }\n",
              "\n",
              "    .colab-df-convert:hover {\n",
              "      background-color: #E2EBFA;\n",
              "      box-shadow: 0px 1px 2px rgba(60, 64, 67, 0.3), 0px 1px 3px 1px rgba(60, 64, 67, 0.15);\n",
              "      fill: #174EA6;\n",
              "    }\n",
              "\n",
              "    .colab-df-buttons div {\n",
              "      margin-bottom: 4px;\n",
              "    }\n",
              "\n",
              "    [theme=dark] .colab-df-convert {\n",
              "      background-color: #3B4455;\n",
              "      fill: #D2E3FC;\n",
              "    }\n",
              "\n",
              "    [theme=dark] .colab-df-convert:hover {\n",
              "      background-color: #434B5C;\n",
              "      box-shadow: 0px 1px 3px 1px rgba(0, 0, 0, 0.15);\n",
              "      filter: drop-shadow(0px 1px 2px rgba(0, 0, 0, 0.3));\n",
              "      fill: #FFFFFF;\n",
              "    }\n",
              "  </style>\n",
              "\n",
              "    <script>\n",
              "      const buttonEl =\n",
              "        document.querySelector('#df-516d9db9-f749-4c8c-8f31-568c12fe8d38 button.colab-df-convert');\n",
              "      buttonEl.style.display =\n",
              "        google.colab.kernel.accessAllowed ? 'block' : 'none';\n",
              "\n",
              "      async function convertToInteractive(key) {\n",
              "        const element = document.querySelector('#df-516d9db9-f749-4c8c-8f31-568c12fe8d38');\n",
              "        const dataTable =\n",
              "          await google.colab.kernel.invokeFunction('convertToInteractive',\n",
              "                                                    [key], {});\n",
              "        if (!dataTable) return;\n",
              "\n",
              "        const docLinkHtml = 'Like what you see? Visit the ' +\n",
              "          '<a target=\"_blank\" href=https://colab.research.google.com/notebooks/data_table.ipynb>data table notebook</a>'\n",
              "          + ' to learn more about interactive tables.';\n",
              "        element.innerHTML = '';\n",
              "        dataTable['output_type'] = 'display_data';\n",
              "        await google.colab.output.renderOutput(dataTable, element);\n",
              "        const docLink = document.createElement('div');\n",
              "        docLink.innerHTML = docLinkHtml;\n",
              "        element.appendChild(docLink);\n",
              "      }\n",
              "    </script>\n",
              "  </div>\n",
              "\n",
              "\n",
              "<div id=\"df-91ee5b05-8e80-469f-8d93-d78a64fea2b1\">\n",
              "  <button class=\"colab-df-quickchart\" onclick=\"quickchart('df-91ee5b05-8e80-469f-8d93-d78a64fea2b1')\"\n",
              "            title=\"Suggest charts\"\n",
              "            style=\"display:none;\">\n",
              "\n",
              "<svg xmlns=\"http://www.w3.org/2000/svg\" height=\"24px\"viewBox=\"0 0 24 24\"\n",
              "     width=\"24px\">\n",
              "    <g>\n",
              "        <path d=\"M19 3H5c-1.1 0-2 .9-2 2v14c0 1.1.9 2 2 2h14c1.1 0 2-.9 2-2V5c0-1.1-.9-2-2-2zM9 17H7v-7h2v7zm4 0h-2V7h2v10zm4 0h-2v-4h2v4z\"/>\n",
              "    </g>\n",
              "</svg>\n",
              "  </button>\n",
              "\n",
              "<style>\n",
              "  .colab-df-quickchart {\n",
              "      --bg-color: #E8F0FE;\n",
              "      --fill-color: #1967D2;\n",
              "      --hover-bg-color: #E2EBFA;\n",
              "      --hover-fill-color: #174EA6;\n",
              "      --disabled-fill-color: #AAA;\n",
              "      --disabled-bg-color: #DDD;\n",
              "  }\n",
              "\n",
              "  [theme=dark] .colab-df-quickchart {\n",
              "      --bg-color: #3B4455;\n",
              "      --fill-color: #D2E3FC;\n",
              "      --hover-bg-color: #434B5C;\n",
              "      --hover-fill-color: #FFFFFF;\n",
              "      --disabled-bg-color: #3B4455;\n",
              "      --disabled-fill-color: #666;\n",
              "  }\n",
              "\n",
              "  .colab-df-quickchart {\n",
              "    background-color: var(--bg-color);\n",
              "    border: none;\n",
              "    border-radius: 50%;\n",
              "    cursor: pointer;\n",
              "    display: none;\n",
              "    fill: var(--fill-color);\n",
              "    height: 32px;\n",
              "    padding: 0;\n",
              "    width: 32px;\n",
              "  }\n",
              "\n",
              "  .colab-df-quickchart:hover {\n",
              "    background-color: var(--hover-bg-color);\n",
              "    box-shadow: 0 1px 2px rgba(60, 64, 67, 0.3), 0 1px 3px 1px rgba(60, 64, 67, 0.15);\n",
              "    fill: var(--button-hover-fill-color);\n",
              "  }\n",
              "\n",
              "  .colab-df-quickchart-complete:disabled,\n",
              "  .colab-df-quickchart-complete:disabled:hover {\n",
              "    background-color: var(--disabled-bg-color);\n",
              "    fill: var(--disabled-fill-color);\n",
              "    box-shadow: none;\n",
              "  }\n",
              "\n",
              "  .colab-df-spinner {\n",
              "    border: 2px solid var(--fill-color);\n",
              "    border-color: transparent;\n",
              "    border-bottom-color: var(--fill-color);\n",
              "    animation:\n",
              "      spin 1s steps(1) infinite;\n",
              "  }\n",
              "\n",
              "  @keyframes spin {\n",
              "    0% {\n",
              "      border-color: transparent;\n",
              "      border-bottom-color: var(--fill-color);\n",
              "      border-left-color: var(--fill-color);\n",
              "    }\n",
              "    20% {\n",
              "      border-color: transparent;\n",
              "      border-left-color: var(--fill-color);\n",
              "      border-top-color: var(--fill-color);\n",
              "    }\n",
              "    30% {\n",
              "      border-color: transparent;\n",
              "      border-left-color: var(--fill-color);\n",
              "      border-top-color: var(--fill-color);\n",
              "      border-right-color: var(--fill-color);\n",
              "    }\n",
              "    40% {\n",
              "      border-color: transparent;\n",
              "      border-right-color: var(--fill-color);\n",
              "      border-top-color: var(--fill-color);\n",
              "    }\n",
              "    60% {\n",
              "      border-color: transparent;\n",
              "      border-right-color: var(--fill-color);\n",
              "    }\n",
              "    80% {\n",
              "      border-color: transparent;\n",
              "      border-right-color: var(--fill-color);\n",
              "      border-bottom-color: var(--fill-color);\n",
              "    }\n",
              "    90% {\n",
              "      border-color: transparent;\n",
              "      border-bottom-color: var(--fill-color);\n",
              "    }\n",
              "  }\n",
              "</style>\n",
              "\n",
              "  <script>\n",
              "    async function quickchart(key) {\n",
              "      const quickchartButtonEl =\n",
              "        document.querySelector('#' + key + ' button');\n",
              "      quickchartButtonEl.disabled = true;  // To prevent multiple clicks.\n",
              "      quickchartButtonEl.classList.add('colab-df-spinner');\n",
              "      try {\n",
              "        const charts = await google.colab.kernel.invokeFunction(\n",
              "            'suggestCharts', [key], {});\n",
              "      } catch (error) {\n",
              "        console.error('Error during call to suggestCharts:', error);\n",
              "      }\n",
              "      quickchartButtonEl.classList.remove('colab-df-spinner');\n",
              "      quickchartButtonEl.classList.add('colab-df-quickchart-complete');\n",
              "    }\n",
              "    (() => {\n",
              "      let quickchartButtonEl =\n",
              "        document.querySelector('#df-91ee5b05-8e80-469f-8d93-d78a64fea2b1 button');\n",
              "      quickchartButtonEl.style.display =\n",
              "        google.colab.kernel.accessAllowed ? 'block' : 'none';\n",
              "    })();\n",
              "  </script>\n",
              "</div>\n",
              "    </div>\n",
              "  </div>\n"
            ],
            "application/vnd.google.colaboratory.intrinsic+json": {
              "type": "dataframe",
              "variable_name": "labels_df",
              "summary": "{\n  \"name\": \"labels_df\",\n  \"rows\": 40479,\n  \"fields\": [\n    {\n      \"column\": \"image_name\",\n      \"properties\": {\n        \"dtype\": \"string\",\n        \"num_unique_values\": 40479,\n        \"samples\": [\n          \"train_34602.jpg\",\n          \"train_11243.jpg\",\n          \"train_14499.jpg\"\n        ],\n        \"semantic_type\": \"\",\n        \"description\": \"\"\n      }\n    },\n    {\n      \"column\": \"tags\",\n      \"properties\": {\n        \"dtype\": \"object\",\n        \"semantic_type\": \"\",\n        \"description\": \"\"\n      }\n    },\n    {\n      \"column\": \"encoded_tags\",\n      \"properties\": {\n        \"dtype\": \"object\",\n        \"semantic_type\": \"\",\n        \"description\": \"\"\n      }\n    }\n  ]\n}"
            }
          },
          "metadata": {},
          "execution_count": 5
        }
      ]
    },
    {
      "cell_type": "markdown",
      "source": [
        "### I.b Setting up `ImageDataGenerator` and a data generators"
      ],
      "metadata": {
        "id": "R3fqE-mSmeUH"
      }
    },
    {
      "cell_type": "markdown",
      "source": [
        "Keras provides `ImageDataGenerator` for data augmentation and to streamline the process of loading and preprocessing images. Here, we will use it to normalize images and set up the training and test data generators."
      ],
      "metadata": {
        "id": "vpDS8eoYmk0q"
      }
    },
    {
      "cell_type": "code",
      "source": [
        "# Initialize the ImageDataGenerator with any specific augmentations\n",
        "train_datagen = ImageDataGenerator(\n",
        "    rescale=1./255,\n",
        "    rotation_range=20,\n",
        "    width_shift_range=0.2,\n",
        "    height_shift_range=0.2,\n",
        "    shear_range=0.2,\n",
        "    zoom_range=0.2,\n",
        "    horizontal_flip=True,\n",
        "    fill_mode='nearest'\n",
        ")"
      ],
      "metadata": {
        "id": "axfdyEO4mplp"
      },
      "execution_count": 25,
      "outputs": []
    },
    {
      "cell_type": "markdown",
      "source": [
        "We also define a function to load individual images based on `labels_df`:"
      ],
      "metadata": {
        "id": "Fw6mpR6Smvud"
      }
    },
    {
      "cell_type": "code",
      "source": [
        "batch_size = 128\n",
        "\n",
        "def fetch_images_and_labels(dataset, directory, batch_size=batch_size, img_target_size=(100,100)):\n",
        "    n = len(dataset)\n",
        "    while True:\n",
        "        for start in range(0, n, batch_size):\n",
        "            end = min(start + batch_size, n)\n",
        "            batch_images = []\n",
        "            batch_labels = []\n",
        "            # Processing of each image in the batch\n",
        "            for _, row in dataset.iloc[start:end].iterrows():\n",
        "                file_path = os.path.join(directory, row['image_name'])\n",
        "                try:\n",
        "                    img = image.load_img(file_path, target_size=img_target_size)\n",
        "                    img_array = image.img_to_array(img)\n",
        "                    batch_images.append(img_array)\n",
        "                    batch_labels.append(row['encoded_tags'])\n",
        "                except FileNotFoundError:\n",
        "                    continue\n",
        "\n",
        "            # Only proceed if there are images in the batch\n",
        "            if len(batch_images) > 0:\n",
        "                batch_images = np.array(batch_images)\n",
        "                batch_labels = np.array(batch_labels)\n",
        "\n",
        "                # Apply transformations and yield\n",
        "                yield train_datagen.flow(batch_images, batch_labels,\n",
        "                                         batch_size=batch_size).next()"
      ],
      "metadata": {
        "id": "X9QYeNKv8cIT"
      },
      "execution_count": 26,
      "outputs": []
    },
    {
      "cell_type": "markdown",
      "source": [
        "Since we only have labels for the train dataset, we need to split the data between train and validation before creating the data generators so we can measure our model's performance:"
      ],
      "metadata": {
        "id": "ByJ35XW-SJIf"
      }
    },
    {
      "cell_type": "code",
      "source": [
        "from sklearn.model_selection import train_test_split\n",
        "\n",
        "# Splitting data\n",
        "train_data, val_data = train_test_split(labels_df, test_size=0.2, random_state=42)\n",
        "\n",
        "# Number of images per dataset\n",
        "print(\"Images in train dataset:\", len(train_data))\n",
        "print(\"Images in validation dataset:\", len(val_data))\n",
        "\n",
        "# Creating data generators for train and validation datasets\n",
        "train_generator = fetch_images_and_labels(train_data, train_path, batch_size=batch_size, img_target_size=(100, 100))\n",
        "val_generator = fetch_images_and_labels(val_data, train_path, batch_size=batch_size, img_target_size=(100, 100))"
      ],
      "metadata": {
        "colab": {
          "base_uri": "https://localhost:8080/"
        },
        "id": "WWd9QyE1SW3x",
        "outputId": "5ff0543c-6684-4496-e043-2ad4b4820b73"
      },
      "execution_count": 27,
      "outputs": [
        {
          "output_type": "stream",
          "name": "stdout",
          "text": [
            "Images in train dataset: 6400\n",
            "Images in validation dataset: 1600\n"
          ]
        }
      ]
    },
    {
      "cell_type": "markdown",
      "source": [
        "## II. Data Modelling"
      ],
      "metadata": {
        "id": "y_v0skVNKGc4"
      }
    },
    {
      "cell_type": "markdown",
      "source": [
        "### II.a Define Initial CNN Custom Model"
      ],
      "metadata": {
        "id": "rqlMS4TnRMgS"
      }
    },
    {
      "cell_type": "markdown",
      "source": [
        "We begin by defining a simple architecture to try the model's performance:"
      ],
      "metadata": {
        "id": "udFhDFcqQTSZ"
      }
    },
    {
      "cell_type": "code",
      "source": [
        "from tensorflow.keras.models import Sequential\n",
        "from tensorflow.keras.layers import Conv2D, MaxPooling2D, Flatten, Dense\n",
        "from tensorflow.keras.callbacks import EarlyStopping, LearningRateScheduler, ModelCheckpoint\n",
        "\n",
        "# Define a simple CNN model\n",
        "model = Sequential([\n",
        "    Conv2D(32, (3,3), activation='relu', input_shape=(100, 100, 3)),\n",
        "    MaxPooling2D(2,2),\n",
        "    Conv2D(64, (3,3), activation='relu'),\n",
        "    MaxPooling2D(2,2),\n",
        "    Flatten(),\n",
        "    Dense(512, activation='relu'),\n",
        "    Dense(len(mlb.classes_), activation='sigmoid')\n",
        "])\n",
        "\n",
        "# Callback for EarlyStopping\n",
        "early_stopping = EarlyStopping(monitor='val_loss',\n",
        "                               patience=3,\n",
        "                               verbose=1,\n",
        "                               restore_best_weights=True)\n",
        "\n",
        "# Callback for Learning Rate Scheduler\n",
        "def scheduler(epoch, lr):\n",
        "    if epoch < 3:\n",
        "        return lr\n",
        "    else:\n",
        "        return lr * np.exp(-0.1)\n",
        "\n",
        "learning_rate_scheduler = LearningRateScheduler(scheduler, verbose=1)\n",
        "\n",
        "# Callback for ModelCheckpoint (save the best model only)\n",
        "model_checkpoint = ModelCheckpoint(\n",
        "    data_path + 'models/best_model.keras',\n",
        "    monitor='val_loss',  # Metric to monitor\n",
        "    save_best_only=True, # Only save a model if `val_loss` has improved\n",
        "    verbose=1\n",
        ")\n",
        "\n",
        "# Compile the model\n",
        "model.compile(optimizer='adam',\n",
        "              loss='binary_crossentropy',\n",
        "              metrics=['accuracy'])"
      ],
      "metadata": {
        "id": "FUewSlYBnQNd"
      },
      "execution_count": 28,
      "outputs": []
    },
    {
      "cell_type": "code",
      "source": [
        "model.summary()"
      ],
      "metadata": {
        "colab": {
          "base_uri": "https://localhost:8080/"
        },
        "id": "-6vJXX51L4Ot",
        "outputId": "813dd40b-5715-4745-d7f2-f802a933e680"
      },
      "execution_count": 29,
      "outputs": [
        {
          "output_type": "stream",
          "name": "stdout",
          "text": [
            "Model: \"sequential_3\"\n",
            "_________________________________________________________________\n",
            " Layer (type)                Output Shape              Param #   \n",
            "=================================================================\n",
            " conv2d_6 (Conv2D)           (None, 98, 98, 32)        896       \n",
            "                                                                 \n",
            " max_pooling2d_6 (MaxPoolin  (None, 49, 49, 32)        0         \n",
            " g2D)                                                            \n",
            "                                                                 \n",
            " conv2d_7 (Conv2D)           (None, 47, 47, 64)        18496     \n",
            "                                                                 \n",
            " max_pooling2d_7 (MaxPoolin  (None, 23, 23, 64)        0         \n",
            " g2D)                                                            \n",
            "                                                                 \n",
            " flatten_3 (Flatten)         (None, 33856)             0         \n",
            "                                                                 \n",
            " dense_6 (Dense)             (None, 512)               17334784  \n",
            "                                                                 \n",
            " dense_7 (Dense)             (None, 17)                8721      \n",
            "                                                                 \n",
            "=================================================================\n",
            "Total params: 17362897 (66.23 MB)\n",
            "Trainable params: 17362897 (66.23 MB)\n",
            "Non-trainable params: 0 (0.00 Byte)\n",
            "_________________________________________________________________\n"
          ]
        }
      ]
    },
    {
      "cell_type": "code",
      "source": [
        "# Adjust steps based on data size and batch size\n",
        "steps_per_epoch = len(train_data) // batch_size\n",
        "validation_steps = len(val_data) // batch_size\n",
        "\n",
        "# Fit the model using the generator\n",
        "model.fit(train_generator,\n",
        "          steps_per_epoch=steps_per_epoch,\n",
        "          validation_data=val_generator,\n",
        "          validation_steps=validation_steps,\n",
        "          epochs=20,\n",
        "          callbacks=[early_stopping, learning_rate_scheduler, model_checkpoint])"
      ],
      "metadata": {
        "colab": {
          "base_uri": "https://localhost:8080/"
        },
        "id": "FNR0UmhWL6Jv",
        "outputId": "3545b6e4-ff1d-40c8-bfb4-0f7a1aa4129a"
      },
      "execution_count": 30,
      "outputs": [
        {
          "output_type": "stream",
          "name": "stdout",
          "text": [
            "\n",
            "Epoch 1: LearningRateScheduler setting learning rate to 0.0010000000474974513.\n",
            "Epoch 1/20\n",
            "50/50 [==============================] - ETA: 0s - loss: 0.2574 - accuracy: 0.0091 \n",
            "Epoch 1: val_loss improved from inf to 0.22156, saving model to /content/drive/Shareddrives/computer-vision-project/Data/Unzipped/planet/planet/models/best_model.keras\n",
            "50/50 [==============================] - 928s 19s/step - loss: 0.2574 - accuracy: 0.0091 - val_loss: 0.2216 - val_accuracy: 0.0417 - lr: 0.0010\n",
            "\n",
            "Epoch 2: LearningRateScheduler setting learning rate to 0.0010000000474974513.\n",
            "Epoch 2/20\n",
            "50/50 [==============================] - ETA: 0s - loss: 0.2125 - accuracy: 0.0329\n",
            "Epoch 2: val_loss improved from 0.22156 to 0.22074, saving model to /content/drive/Shareddrives/computer-vision-project/Data/Unzipped/planet/planet/models/best_model.keras\n",
            "50/50 [==============================] - 53s 1s/step - loss: 0.2125 - accuracy: 0.0329 - val_loss: 0.2207 - val_accuracy: 0.0564 - lr: 0.0010\n",
            "\n",
            "Epoch 3: LearningRateScheduler setting learning rate to 0.0010000000474974513.\n",
            "Epoch 3/20\n",
            "50/50 [==============================] - ETA: 0s - loss: 0.2069 - accuracy: 0.0320\n",
            "Epoch 3: val_loss improved from 0.22074 to 0.21483, saving model to /content/drive/Shareddrives/computer-vision-project/Data/Unzipped/planet/planet/models/best_model.keras\n",
            "50/50 [==============================] - 58s 1s/step - loss: 0.2069 - accuracy: 0.0320 - val_loss: 0.2148 - val_accuracy: 0.0483 - lr: 0.0010\n",
            "\n",
            "Epoch 4: LearningRateScheduler setting learning rate to 0.0009048374610134307.\n",
            "Epoch 4/20\n",
            "50/50 [==============================] - ETA: 0s - loss: 0.2053 - accuracy: 0.0324\n",
            "Epoch 4: val_loss improved from 0.21483 to 0.21087, saving model to /content/drive/Shareddrives/computer-vision-project/Data/Unzipped/planet/planet/models/best_model.keras\n",
            "50/50 [==============================] - 55s 1s/step - loss: 0.2053 - accuracy: 0.0324 - val_loss: 0.2109 - val_accuracy: 0.0410 - lr: 9.0484e-04\n",
            "\n",
            "Epoch 5: LearningRateScheduler setting learning rate to 0.0008187307807475673.\n",
            "Epoch 5/20\n",
            "50/50 [==============================] - ETA: 0s - loss: 0.2025 - accuracy: 0.0359\n",
            "Epoch 5: val_loss improved from 0.21087 to 0.20524, saving model to /content/drive/Shareddrives/computer-vision-project/Data/Unzipped/planet/planet/models/best_model.keras\n",
            "50/50 [==============================] - 48s 979ms/step - loss: 0.2025 - accuracy: 0.0359 - val_loss: 0.2052 - val_accuracy: 0.0366 - lr: 8.1873e-04\n",
            "\n",
            "Epoch 6: LearningRateScheduler setting learning rate to 0.0007408182609837606.\n",
            "Epoch 6/20\n",
            "50/50 [==============================] - ETA: 0s - loss: 0.1966 - accuracy: 0.0367\n",
            "Epoch 6: val_loss improved from 0.20524 to 0.19932, saving model to /content/drive/Shareddrives/computer-vision-project/Data/Unzipped/planet/planet/models/best_model.keras\n",
            "50/50 [==============================] - 44s 892ms/step - loss: 0.1966 - accuracy: 0.0367 - val_loss: 0.1993 - val_accuracy: 0.0381 - lr: 7.4082e-04\n",
            "\n",
            "Epoch 7: LearningRateScheduler setting learning rate to 0.0006703200923609524.\n",
            "Epoch 7/20\n",
            "50/50 [==============================] - ETA: 0s - loss: 0.1922 - accuracy: 0.0371\n",
            "Epoch 7: val_loss improved from 0.19932 to 0.19509, saving model to /content/drive/Shareddrives/computer-vision-project/Data/Unzipped/planet/planet/models/best_model.keras\n",
            "50/50 [==============================] - 47s 954ms/step - loss: 0.1922 - accuracy: 0.0371 - val_loss: 0.1951 - val_accuracy: 0.0403 - lr: 6.7032e-04\n",
            "\n",
            "Epoch 8: LearningRateScheduler setting learning rate to 0.000606530675391766.\n",
            "Epoch 8/20\n",
            "50/50 [==============================] - ETA: 0s - loss: 0.1902 - accuracy: 0.0364\n",
            "Epoch 8: val_loss improved from 0.19509 to 0.19215, saving model to /content/drive/Shareddrives/computer-vision-project/Data/Unzipped/planet/planet/models/best_model.keras\n",
            "50/50 [==============================] - 46s 931ms/step - loss: 0.1902 - accuracy: 0.0364 - val_loss: 0.1922 - val_accuracy: 0.0417 - lr: 6.0653e-04\n",
            "\n",
            "Epoch 9: LearningRateScheduler setting learning rate to 0.0005488116682245179.\n",
            "Epoch 9/20\n",
            "50/50 [==============================] - ETA: 0s - loss: 0.1875 - accuracy: 0.0378\n",
            "Epoch 9: val_loss improved from 0.19215 to 0.18948, saving model to /content/drive/Shareddrives/computer-vision-project/Data/Unzipped/planet/planet/models/best_model.keras\n",
            "50/50 [==============================] - 50s 1s/step - loss: 0.1875 - accuracy: 0.0378 - val_loss: 0.1895 - val_accuracy: 0.0432 - lr: 5.4881e-04\n",
            "\n",
            "Epoch 10: LearningRateScheduler setting learning rate to 0.0004965853504160465.\n",
            "Epoch 10/20\n",
            "50/50 [==============================] - ETA: 0s - loss: 0.1856 - accuracy: 0.0390\n",
            "Epoch 10: val_loss did not improve from 0.18948\n",
            "50/50 [==============================] - 40s 810ms/step - loss: 0.1856 - accuracy: 0.0390 - val_loss: 0.1897 - val_accuracy: 0.0395 - lr: 4.9659e-04\n",
            "\n",
            "Epoch 11: LearningRateScheduler setting learning rate to 0.0004493289874054642.\n",
            "Epoch 11/20\n",
            "50/50 [==============================] - ETA: 0s - loss: 0.1829 - accuracy: 0.0387\n",
            "Epoch 11: val_loss improved from 0.18948 to 0.18798, saving model to /content/drive/Shareddrives/computer-vision-project/Data/Unzipped/planet/planet/models/best_model.keras\n",
            "50/50 [==============================] - 46s 939ms/step - loss: 0.1829 - accuracy: 0.0387 - val_loss: 0.1880 - val_accuracy: 0.0410 - lr: 4.4933e-04\n",
            "\n",
            "Epoch 12: LearningRateScheduler setting learning rate to 0.0004065696690041351.\n",
            "Epoch 12/20\n",
            "50/50 [==============================] - ETA: 0s - loss: 0.1812 - accuracy: 0.0397\n",
            "Epoch 12: val_loss improved from 0.18798 to 0.18655, saving model to /content/drive/Shareddrives/computer-vision-project/Data/Unzipped/planet/planet/models/best_model.keras\n",
            "50/50 [==============================] - 46s 938ms/step - loss: 0.1812 - accuracy: 0.0397 - val_loss: 0.1866 - val_accuracy: 0.0395 - lr: 4.0657e-04\n",
            "\n",
            "Epoch 13: LearningRateScheduler setting learning rate to 0.00036787943756223617.\n",
            "Epoch 13/20\n",
            "50/50 [==============================] - ETA: 0s - loss: 0.1803 - accuracy: 0.0394\n",
            "Epoch 13: val_loss improved from 0.18655 to 0.18387, saving model to /content/drive/Shareddrives/computer-vision-project/Data/Unzipped/planet/planet/models/best_model.keras\n",
            "50/50 [==============================] - 46s 928ms/step - loss: 0.1803 - accuracy: 0.0394 - val_loss: 0.1839 - val_accuracy: 0.0410 - lr: 3.6788e-04\n",
            "\n",
            "Epoch 14: LearningRateScheduler setting learning rate to 0.0003328710744911885.\n",
            "Epoch 14/20\n",
            "50/50 [==============================] - ETA: 0s - loss: 0.1794 - accuracy: 0.0395\n",
            "Epoch 14: val_loss improved from 0.18387 to 0.18299, saving model to /content/drive/Shareddrives/computer-vision-project/Data/Unzipped/planet/planet/models/best_model.keras\n",
            "50/50 [==============================] - 51s 1s/step - loss: 0.1794 - accuracy: 0.0395 - val_loss: 0.1830 - val_accuracy: 0.0403 - lr: 3.3287e-04\n",
            "\n",
            "Epoch 15: LearningRateScheduler setting learning rate to 0.00030119420279690575.\n",
            "Epoch 15/20\n",
            "50/50 [==============================] - ETA: 0s - loss: 0.1775 - accuracy: 0.0411\n",
            "Epoch 15: val_loss improved from 0.18299 to 0.18219, saving model to /content/drive/Shareddrives/computer-vision-project/Data/Unzipped/planet/planet/models/best_model.keras\n",
            "50/50 [==============================] - 48s 985ms/step - loss: 0.1775 - accuracy: 0.0411 - val_loss: 0.1822 - val_accuracy: 0.0410 - lr: 3.0119e-04\n",
            "\n",
            "Epoch 16: LearningRateScheduler setting learning rate to 0.0002725317846265655.\n",
            "Epoch 16/20\n",
            "50/50 [==============================] - ETA: 0s - loss: 0.1762 - accuracy: 0.0409\n",
            "Epoch 16: val_loss improved from 0.18219 to 0.18161, saving model to /content/drive/Shareddrives/computer-vision-project/Data/Unzipped/planet/planet/models/best_model.keras\n",
            "50/50 [==============================] - 40s 818ms/step - loss: 0.1762 - accuracy: 0.0409 - val_loss: 0.1816 - val_accuracy: 0.0359 - lr: 2.7253e-04\n",
            "\n",
            "Epoch 17: LearningRateScheduler setting learning rate to 0.0002465969611604322.\n",
            "Epoch 17/20\n",
            "50/50 [==============================] - ETA: 0s - loss: 0.1753 - accuracy: 0.0411\n",
            "Epoch 17: val_loss improved from 0.18161 to 0.18146, saving model to /content/drive/Shareddrives/computer-vision-project/Data/Unzipped/planet/planet/models/best_model.keras\n",
            "50/50 [==============================] - 51s 1s/step - loss: 0.1753 - accuracy: 0.0411 - val_loss: 0.1815 - val_accuracy: 0.0351 - lr: 2.4660e-04\n",
            "\n",
            "Epoch 18: LearningRateScheduler setting learning rate to 0.0002231301558460287.\n",
            "Epoch 18/20\n",
            "50/50 [==============================] - ETA: 0s - loss: 0.1740 - accuracy: 0.0427\n",
            "Epoch 18: val_loss improved from 0.18146 to 0.17969, saving model to /content/drive/Shareddrives/computer-vision-project/Data/Unzipped/planet/planet/models/best_model.keras\n",
            "50/50 [==============================] - 40s 815ms/step - loss: 0.1740 - accuracy: 0.0427 - val_loss: 0.1797 - val_accuracy: 0.0381 - lr: 2.2313e-04\n",
            "\n",
            "Epoch 19: LearningRateScheduler setting learning rate to 0.00020189651997736023.\n",
            "Epoch 19/20\n",
            "50/50 [==============================] - ETA: 0s - loss: 0.1738 - accuracy: 0.0416\n",
            "Epoch 19: val_loss improved from 0.17969 to 0.17956, saving model to /content/drive/Shareddrives/computer-vision-project/Data/Unzipped/planet/planet/models/best_model.keras\n",
            "50/50 [==============================] - 52s 1s/step - loss: 0.1738 - accuracy: 0.0416 - val_loss: 0.1796 - val_accuracy: 0.0381 - lr: 2.0190e-04\n",
            "\n",
            "Epoch 20: LearningRateScheduler setting learning rate to 0.0001826835231124296.\n",
            "Epoch 20/20\n",
            "50/50 [==============================] - ETA: 0s - loss: 0.1725 - accuracy: 0.0422\n",
            "Epoch 20: val_loss improved from 0.17956 to 0.17786, saving model to /content/drive/Shareddrives/computer-vision-project/Data/Unzipped/planet/planet/models/best_model.keras\n",
            "50/50 [==============================] - 50s 1s/step - loss: 0.1725 - accuracy: 0.0422 - val_loss: 0.1779 - val_accuracy: 0.0381 - lr: 1.8268e-04\n"
          ]
        },
        {
          "output_type": "execute_result",
          "data": {
            "text/plain": [
              "<keras.src.callbacks.History at 0x7902ad226bc0>"
            ]
          },
          "metadata": {},
          "execution_count": 30
        }
      ]
    }
  ]
}