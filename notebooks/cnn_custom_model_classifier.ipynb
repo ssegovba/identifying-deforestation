{
  "nbformat": 4,
  "nbformat_minor": 0,
  "metadata": {
    "colab": {
      "provenance": [],
      "gpuType": "T4",
      "authorship_tag": "ABX9TyMAq0GxBhu6XmBQOn5iJL0D",
      "include_colab_link": true
    },
    "kernelspec": {
      "name": "python3",
      "display_name": "Python 3"
    },
    "language_info": {
      "name": "python"
    },
    "accelerator": "GPU"
  },
  "cells": [
    {
      "cell_type": "markdown",
      "metadata": {
        "id": "view-in-github",
        "colab_type": "text"
      },
      "source": [
        "<a href=\"https://colab.research.google.com/github/ssegovba/identifying-deforestation/blob/main/notebooks/cnn_custom_model_classifier.ipynb\" target=\"_parent\"><img src=\"https://colab.research.google.com/assets/colab-badge.svg\" alt=\"Open In Colab\"/></a>"
      ]
    },
    {
      "cell_type": "markdown",
      "source": [
        "# CNN Model on Amazon Rainforest Data for Deforestation Tracking\n",
        "*Santiago Segovia*"
      ],
      "metadata": {
        "id": "3r_gD7Gx51ar"
      }
    },
    {
      "cell_type": "code",
      "source": [
        "import numpy as np\n",
        "import pandas as pd\n",
        "from tensorflow.keras.preprocessing.image import ImageDataGenerator\n",
        "from tensorflow.keras.utils import to_categorical\n",
        "from sklearn.preprocessing import MultiLabelBinarizer\n",
        "from tensorflow.keras.preprocessing import image\n",
        "import os\n",
        "\n",
        "from google.colab import drive"
      ],
      "metadata": {
        "id": "KY0vOeKm6YH5"
      },
      "execution_count": 1,
      "outputs": []
    },
    {
      "cell_type": "code",
      "source": [
        "# Mount GDrive\n",
        "drive.mount(\"/content/drive\")"
      ],
      "metadata": {
        "colab": {
          "base_uri": "https://localhost:8080/"
        },
        "id": "NYxc0w3B6WtT",
        "outputId": "d897c06f-dac3-40aa-921f-3b228e7bb41c"
      },
      "execution_count": 2,
      "outputs": [
        {
          "output_type": "stream",
          "name": "stdout",
          "text": [
            "Mounted at /content/drive\n"
          ]
        }
      ]
    },
    {
      "cell_type": "markdown",
      "source": [
        "## I. Data Pre-processing"
      ],
      "metadata": {
        "id": "KVq-4Tm_7PTC"
      }
    },
    {
      "cell_type": "markdown",
      "source": [
        "### I.a Handling the Labels"
      ],
      "metadata": {
        "id": "8J3LcZBDmKO-"
      }
    },
    {
      "cell_type": "markdown",
      "source": [
        "We begin by loading the metadata that has the names of the labels:\n",
        "\n"
      ],
      "metadata": {
        "id": "VVwMIDTf8fPh"
      }
    },
    {
      "cell_type": "code",
      "source": [
        "data_path = \"/content/drive/Shareddrives/computer-vision-project/Data/Unzipped/planet/planet/\"\n",
        "train_path = \"/content/drive/Shareddrives/computer-vision-project/Data/Unzipped/planet/planet/train-jpg\"\n",
        "test_path = \"/content/drive/Shareddrives/computer-vision-project/Data/Unzipped/planet/planet/test-jpg\""
      ],
      "metadata": {
        "id": "eNcaVns87T8x"
      },
      "execution_count": 3,
      "outputs": []
    },
    {
      "cell_type": "code",
      "source": [
        "# Load the CSV file with the metadata\n",
        "labels_df = pd.read_csv(data_path + 'train_classes.csv')\n",
        "\n",
        "# Add extension so image names match file names\n",
        "labels_df['image_name'] = labels_df['image_name'].apply(lambda x: x + '.jpg')\n",
        "\n",
        "# Convert the space-separated tags into a list of tags\n",
        "labels_df['tags'] = labels_df['tags'].apply(lambda x: x.split())\n",
        "\n",
        "# Use a MultiLabelBinarizer for the tags for model training\n",
        "mlb = MultiLabelBinarizer()\n",
        "labels_df['encoded_tags'] = list(mlb.fit_transform(labels_df['tags']))\n",
        "labels_df = labels_df[:8000]"
      ],
      "metadata": {
        "id": "_jdsk4r2lPkJ"
      },
      "execution_count": 24,
      "outputs": []
    },
    {
      "cell_type": "code",
      "source": [
        "labels_df.head()"
      ],
      "metadata": {
        "colab": {
          "base_uri": "https://localhost:8080/",
          "height": 206
        },
        "id": "cM9VMqC4l5M2",
        "outputId": "b5e16bc9-196c-4671-eceb-b48d5aaa2963"
      },
      "execution_count": 5,
      "outputs": [
        {
          "output_type": "execute_result",
          "data": {
            "text/plain": [
              "    image_name                                             tags  \\\n",
              "0  train_0.jpg                                  [haze, primary]   \n",
              "1  train_1.jpg             [agriculture, clear, primary, water]   \n",
              "2  train_2.jpg                                 [clear, primary]   \n",
              "3  train_3.jpg                                 [clear, primary]   \n",
              "4  train_4.jpg  [agriculture, clear, habitation, primary, road]   \n",
              "\n",
              "                                        encoded_tags  \n",
              "0  [0, 0, 0, 0, 0, 0, 0, 0, 0, 0, 1, 0, 1, 0, 0, ...  \n",
              "1  [1, 0, 0, 0, 0, 1, 0, 0, 0, 0, 0, 0, 1, 0, 0, ...  \n",
              "2  [0, 0, 0, 0, 0, 1, 0, 0, 0, 0, 0, 0, 1, 0, 0, ...  \n",
              "3  [0, 0, 0, 0, 0, 1, 0, 0, 0, 0, 0, 0, 1, 0, 0, ...  \n",
              "4  [1, 0, 0, 0, 0, 1, 0, 0, 0, 1, 0, 0, 1, 1, 0, ...  "
            ],
            "text/html": [
              "\n",
              "  <div id=\"df-516d9db9-f749-4c8c-8f31-568c12fe8d38\" class=\"colab-df-container\">\n",
              "    <div>\n",
              "<style scoped>\n",
              "    .dataframe tbody tr th:only-of-type {\n",
              "        vertical-align: middle;\n",
              "    }\n",
              "\n",
              "    .dataframe tbody tr th {\n",
              "        vertical-align: top;\n",
              "    }\n",
              "\n",
              "    .dataframe thead th {\n",
              "        text-align: right;\n",
              "    }\n",
              "</style>\n",
              "<table border=\"1\" class=\"dataframe\">\n",
              "  <thead>\n",
              "    <tr style=\"text-align: right;\">\n",
              "      <th></th>\n",
              "      <th>image_name</th>\n",
              "      <th>tags</th>\n",
              "      <th>encoded_tags</th>\n",
              "    </tr>\n",
              "  </thead>\n",
              "  <tbody>\n",
              "    <tr>\n",
              "      <th>0</th>\n",
              "      <td>train_0.jpg</td>\n",
              "      <td>[haze, primary]</td>\n",
              "      <td>[0, 0, 0, 0, 0, 0, 0, 0, 0, 0, 1, 0, 1, 0, 0, ...</td>\n",
              "    </tr>\n",
              "    <tr>\n",
              "      <th>1</th>\n",
              "      <td>train_1.jpg</td>\n",
              "      <td>[agriculture, clear, primary, water]</td>\n",
              "      <td>[1, 0, 0, 0, 0, 1, 0, 0, 0, 0, 0, 0, 1, 0, 0, ...</td>\n",
              "    </tr>\n",
              "    <tr>\n",
              "      <th>2</th>\n",
              "      <td>train_2.jpg</td>\n",
              "      <td>[clear, primary]</td>\n",
              "      <td>[0, 0, 0, 0, 0, 1, 0, 0, 0, 0, 0, 0, 1, 0, 0, ...</td>\n",
              "    </tr>\n",
              "    <tr>\n",
              "      <th>3</th>\n",
              "      <td>train_3.jpg</td>\n",
              "      <td>[clear, primary]</td>\n",
              "      <td>[0, 0, 0, 0, 0, 1, 0, 0, 0, 0, 0, 0, 1, 0, 0, ...</td>\n",
              "    </tr>\n",
              "    <tr>\n",
              "      <th>4</th>\n",
              "      <td>train_4.jpg</td>\n",
              "      <td>[agriculture, clear, habitation, primary, road]</td>\n",
              "      <td>[1, 0, 0, 0, 0, 1, 0, 0, 0, 1, 0, 0, 1, 1, 0, ...</td>\n",
              "    </tr>\n",
              "  </tbody>\n",
              "</table>\n",
              "</div>\n",
              "    <div class=\"colab-df-buttons\">\n",
              "\n",
              "  <div class=\"colab-df-container\">\n",
              "    <button class=\"colab-df-convert\" onclick=\"convertToInteractive('df-516d9db9-f749-4c8c-8f31-568c12fe8d38')\"\n",
              "            title=\"Convert this dataframe to an interactive table.\"\n",
              "            style=\"display:none;\">\n",
              "\n",
              "  <svg xmlns=\"http://www.w3.org/2000/svg\" height=\"24px\" viewBox=\"0 -960 960 960\">\n",
              "    <path d=\"M120-120v-720h720v720H120Zm60-500h600v-160H180v160Zm220 220h160v-160H400v160Zm0 220h160v-160H400v160ZM180-400h160v-160H180v160Zm440 0h160v-160H620v160ZM180-180h160v-160H180v160Zm440 0h160v-160H620v160Z\"/>\n",
              "  </svg>\n",
              "    </button>\n",
              "\n",
              "  <style>\n",
              "    .colab-df-container {\n",
              "      display:flex;\n",
              "      gap: 12px;\n",
              "    }\n",
              "\n",
              "    .colab-df-convert {\n",
              "      background-color: #E8F0FE;\n",
              "      border: none;\n",
              "      border-radius: 50%;\n",
              "      cursor: pointer;\n",
              "      display: none;\n",
              "      fill: #1967D2;\n",
              "      height: 32px;\n",
              "      padding: 0 0 0 0;\n",
              "      width: 32px;\n",
              "    }\n",
              "\n",
              "    .colab-df-convert:hover {\n",
              "      background-color: #E2EBFA;\n",
              "      box-shadow: 0px 1px 2px rgba(60, 64, 67, 0.3), 0px 1px 3px 1px rgba(60, 64, 67, 0.15);\n",
              "      fill: #174EA6;\n",
              "    }\n",
              "\n",
              "    .colab-df-buttons div {\n",
              "      margin-bottom: 4px;\n",
              "    }\n",
              "\n",
              "    [theme=dark] .colab-df-convert {\n",
              "      background-color: #3B4455;\n",
              "      fill: #D2E3FC;\n",
              "    }\n",
              "\n",
              "    [theme=dark] .colab-df-convert:hover {\n",
              "      background-color: #434B5C;\n",
              "      box-shadow: 0px 1px 3px 1px rgba(0, 0, 0, 0.15);\n",
              "      filter: drop-shadow(0px 1px 2px rgba(0, 0, 0, 0.3));\n",
              "      fill: #FFFFFF;\n",
              "    }\n",
              "  </style>\n",
              "\n",
              "    <script>\n",
              "      const buttonEl =\n",
              "        document.querySelector('#df-516d9db9-f749-4c8c-8f31-568c12fe8d38 button.colab-df-convert');\n",
              "      buttonEl.style.display =\n",
              "        google.colab.kernel.accessAllowed ? 'block' : 'none';\n",
              "\n",
              "      async function convertToInteractive(key) {\n",
              "        const element = document.querySelector('#df-516d9db9-f749-4c8c-8f31-568c12fe8d38');\n",
              "        const dataTable =\n",
              "          await google.colab.kernel.invokeFunction('convertToInteractive',\n",
              "                                                    [key], {});\n",
              "        if (!dataTable) return;\n",
              "\n",
              "        const docLinkHtml = 'Like what you see? Visit the ' +\n",
              "          '<a target=\"_blank\" href=https://colab.research.google.com/notebooks/data_table.ipynb>data table notebook</a>'\n",
              "          + ' to learn more about interactive tables.';\n",
              "        element.innerHTML = '';\n",
              "        dataTable['output_type'] = 'display_data';\n",
              "        await google.colab.output.renderOutput(dataTable, element);\n",
              "        const docLink = document.createElement('div');\n",
              "        docLink.innerHTML = docLinkHtml;\n",
              "        element.appendChild(docLink);\n",
              "      }\n",
              "    </script>\n",
              "  </div>\n",
              "\n",
              "\n",
              "<div id=\"df-91ee5b05-8e80-469f-8d93-d78a64fea2b1\">\n",
              "  <button class=\"colab-df-quickchart\" onclick=\"quickchart('df-91ee5b05-8e80-469f-8d93-d78a64fea2b1')\"\n",
              "            title=\"Suggest charts\"\n",
              "            style=\"display:none;\">\n",
              "\n",
              "<svg xmlns=\"http://www.w3.org/2000/svg\" height=\"24px\"viewBox=\"0 0 24 24\"\n",
              "     width=\"24px\">\n",
              "    <g>\n",
              "        <path d=\"M19 3H5c-1.1 0-2 .9-2 2v14c0 1.1.9 2 2 2h14c1.1 0 2-.9 2-2V5c0-1.1-.9-2-2-2zM9 17H7v-7h2v7zm4 0h-2V7h2v10zm4 0h-2v-4h2v4z\"/>\n",
              "    </g>\n",
              "</svg>\n",
              "  </button>\n",
              "\n",
              "<style>\n",
              "  .colab-df-quickchart {\n",
              "      --bg-color: #E8F0FE;\n",
              "      --fill-color: #1967D2;\n",
              "      --hover-bg-color: #E2EBFA;\n",
              "      --hover-fill-color: #174EA6;\n",
              "      --disabled-fill-color: #AAA;\n",
              "      --disabled-bg-color: #DDD;\n",
              "  }\n",
              "\n",
              "  [theme=dark] .colab-df-quickchart {\n",
              "      --bg-color: #3B4455;\n",
              "      --fill-color: #D2E3FC;\n",
              "      --hover-bg-color: #434B5C;\n",
              "      --hover-fill-color: #FFFFFF;\n",
              "      --disabled-bg-color: #3B4455;\n",
              "      --disabled-fill-color: #666;\n",
              "  }\n",
              "\n",
              "  .colab-df-quickchart {\n",
              "    background-color: var(--bg-color);\n",
              "    border: none;\n",
              "    border-radius: 50%;\n",
              "    cursor: pointer;\n",
              "    display: none;\n",
              "    fill: var(--fill-color);\n",
              "    height: 32px;\n",
              "    padding: 0;\n",
              "    width: 32px;\n",
              "  }\n",
              "\n",
              "  .colab-df-quickchart:hover {\n",
              "    background-color: var(--hover-bg-color);\n",
              "    box-shadow: 0 1px 2px rgba(60, 64, 67, 0.3), 0 1px 3px 1px rgba(60, 64, 67, 0.15);\n",
              "    fill: var(--button-hover-fill-color);\n",
              "  }\n",
              "\n",
              "  .colab-df-quickchart-complete:disabled,\n",
              "  .colab-df-quickchart-complete:disabled:hover {\n",
              "    background-color: var(--disabled-bg-color);\n",
              "    fill: var(--disabled-fill-color);\n",
              "    box-shadow: none;\n",
              "  }\n",
              "\n",
              "  .colab-df-spinner {\n",
              "    border: 2px solid var(--fill-color);\n",
              "    border-color: transparent;\n",
              "    border-bottom-color: var(--fill-color);\n",
              "    animation:\n",
              "      spin 1s steps(1) infinite;\n",
              "  }\n",
              "\n",
              "  @keyframes spin {\n",
              "    0% {\n",
              "      border-color: transparent;\n",
              "      border-bottom-color: var(--fill-color);\n",
              "      border-left-color: var(--fill-color);\n",
              "    }\n",
              "    20% {\n",
              "      border-color: transparent;\n",
              "      border-left-color: var(--fill-color);\n",
              "      border-top-color: var(--fill-color);\n",
              "    }\n",
              "    30% {\n",
              "      border-color: transparent;\n",
              "      border-left-color: var(--fill-color);\n",
              "      border-top-color: var(--fill-color);\n",
              "      border-right-color: var(--fill-color);\n",
              "    }\n",
              "    40% {\n",
              "      border-color: transparent;\n",
              "      border-right-color: var(--fill-color);\n",
              "      border-top-color: var(--fill-color);\n",
              "    }\n",
              "    60% {\n",
              "      border-color: transparent;\n",
              "      border-right-color: var(--fill-color);\n",
              "    }\n",
              "    80% {\n",
              "      border-color: transparent;\n",
              "      border-right-color: var(--fill-color);\n",
              "      border-bottom-color: var(--fill-color);\n",
              "    }\n",
              "    90% {\n",
              "      border-color: transparent;\n",
              "      border-bottom-color: var(--fill-color);\n",
              "    }\n",
              "  }\n",
              "</style>\n",
              "\n",
              "  <script>\n",
              "    async function quickchart(key) {\n",
              "      const quickchartButtonEl =\n",
              "        document.querySelector('#' + key + ' button');\n",
              "      quickchartButtonEl.disabled = true;  // To prevent multiple clicks.\n",
              "      quickchartButtonEl.classList.add('colab-df-spinner');\n",
              "      try {\n",
              "        const charts = await google.colab.kernel.invokeFunction(\n",
              "            'suggestCharts', [key], {});\n",
              "      } catch (error) {\n",
              "        console.error('Error during call to suggestCharts:', error);\n",
              "      }\n",
              "      quickchartButtonEl.classList.remove('colab-df-spinner');\n",
              "      quickchartButtonEl.classList.add('colab-df-quickchart-complete');\n",
              "    }\n",
              "    (() => {\n",
              "      let quickchartButtonEl =\n",
              "        document.querySelector('#df-91ee5b05-8e80-469f-8d93-d78a64fea2b1 button');\n",
              "      quickchartButtonEl.style.display =\n",
              "        google.colab.kernel.accessAllowed ? 'block' : 'none';\n",
              "    })();\n",
              "  </script>\n",
              "</div>\n",
              "    </div>\n",
              "  </div>\n"
            ],
            "application/vnd.google.colaboratory.intrinsic+json": {
              "type": "dataframe",
              "variable_name": "labels_df",
              "summary": "{\n  \"name\": \"labels_df\",\n  \"rows\": 40479,\n  \"fields\": [\n    {\n      \"column\": \"image_name\",\n      \"properties\": {\n        \"dtype\": \"string\",\n        \"num_unique_values\": 40479,\n        \"samples\": [\n          \"train_34602.jpg\",\n          \"train_11243.jpg\",\n          \"train_14499.jpg\"\n        ],\n        \"semantic_type\": \"\",\n        \"description\": \"\"\n      }\n    },\n    {\n      \"column\": \"tags\",\n      \"properties\": {\n        \"dtype\": \"object\",\n        \"semantic_type\": \"\",\n        \"description\": \"\"\n      }\n    },\n    {\n      \"column\": \"encoded_tags\",\n      \"properties\": {\n        \"dtype\": \"object\",\n        \"semantic_type\": \"\",\n        \"description\": \"\"\n      }\n    }\n  ]\n}"
            }
          },
          "metadata": {},
          "execution_count": 5
        }
      ]
    },
    {
      "cell_type": "markdown",
      "source": [
        "### I.b Setting up `ImageDataGenerator` and a data generators"
      ],
      "metadata": {
        "id": "R3fqE-mSmeUH"
      }
    },
    {
      "cell_type": "markdown",
      "source": [
        "Keras provides `ImageDataGenerator` for data augmentation and to streamline the process of loading and preprocessing images. Here, we will use it to normalize images and set up the training and test data generators."
      ],
      "metadata": {
        "id": "vpDS8eoYmk0q"
      }
    },
    {
      "cell_type": "code",
      "source": [
        "# Initialize the ImageDataGenerator with any specific augmentations\n",
        "train_datagen = ImageDataGenerator(\n",
        "    rescale=1./255,\n",
        "    rotation_range=20,\n",
        "    width_shift_range=0.2,\n",
        "    height_shift_range=0.2,\n",
        "    shear_range=0.2,\n",
        "    zoom_range=0.2,\n",
        "    horizontal_flip=True,\n",
        "    fill_mode='nearest'\n",
        ")"
      ],
      "metadata": {
        "id": "axfdyEO4mplp"
      },
      "execution_count": 25,
      "outputs": []
    },
    {
      "cell_type": "markdown",
      "source": [
        "We also define a function to load individual images based on `labels_df`:"
      ],
      "metadata": {
        "id": "Fw6mpR6Smvud"
      }
    },
    {
      "cell_type": "code",
      "source": [
        "batch_size = 128\n",
        "\n",
        "def fetch_images_and_labels(dataset, directory, batch_size=batch_size, img_target_size=(100,100)):\n",
        "    n = len(dataset)\n",
        "    while True:\n",
        "        for start in range(0, n, batch_size):\n",
        "            end = min(start + batch_size, n)\n",
        "            batch_images = []\n",
        "            batch_labels = []\n",
        "            # Processing of each image in the batch\n",
        "            for _, row in dataset.iloc[start:end].iterrows():\n",
        "                file_path = os.path.join(directory, row['image_name'])\n",
        "                try:\n",
        "                    img = image.load_img(file_path, target_size=img_target_size)\n",
        "                    img_array = image.img_to_array(img)\n",
        "                    batch_images.append(img_array)\n",
        "                    batch_labels.append(row['encoded_tags'])\n",
        "                except FileNotFoundError:\n",
        "                    continue\n",
        "\n",
        "            # Only proceed if there are images in the batch\n",
        "            if len(batch_images) > 0:\n",
        "                batch_images = np.array(batch_images)\n",
        "                batch_labels = np.array(batch_labels)\n",
        "\n",
        "                # Apply transformations and yield\n",
        "                yield train_datagen.flow(batch_images, batch_labels,\n",
        "                                         batch_size=batch_size).next()"
      ],
      "metadata": {
        "id": "X9QYeNKv8cIT"
      },
      "execution_count": 35,
      "outputs": []
    },
    {
      "cell_type": "markdown",
      "source": [
        "Since we only have labels for the train dataset, we need to split the data between train and validation before creating the data generators so we can measure our model's performance:"
      ],
      "metadata": {
        "id": "ByJ35XW-SJIf"
      }
    },
    {
      "cell_type": "code",
      "source": [
        "from sklearn.model_selection import train_test_split\n",
        "\n",
        "# Splitting data\n",
        "train_data, val_data = train_test_split(labels_df, test_size=0.2, random_state=42)\n",
        "\n",
        "# Number of images per dataset\n",
        "print(\"Images in train dataset:\", len(train_data))\n",
        "print(\"Images in validation dataset:\", len(val_data))\n",
        "\n",
        "# Creating data generators for train and validation datasets\n",
        "train_generator = fetch_images_and_labels(train_data, train_path, batch_size=batch_size, img_target_size=(100, 100))\n",
        "val_generator = fetch_images_and_labels(val_data, train_path, batch_size=batch_size, img_target_size=(100, 100))"
      ],
      "metadata": {
        "colab": {
          "base_uri": "https://localhost:8080/"
        },
        "id": "WWd9QyE1SW3x",
        "outputId": "a29393ca-263a-4a82-a75e-3e41a021e3a4"
      },
      "execution_count": 36,
      "outputs": [
        {
          "output_type": "stream",
          "name": "stdout",
          "text": [
            "Images in train dataset: 6400\n",
            "Images in validation dataset: 1600\n"
          ]
        }
      ]
    },
    {
      "cell_type": "markdown",
      "source": [
        "## II. Data Modelling"
      ],
      "metadata": {
        "id": "y_v0skVNKGc4"
      }
    },
    {
      "cell_type": "markdown",
      "source": [
        "### II.a Define Initial CNN Custom Model"
      ],
      "metadata": {
        "id": "rqlMS4TnRMgS"
      }
    },
    {
      "cell_type": "markdown",
      "source": [
        "We begin by defining a simple architecture to try the model's performance:"
      ],
      "metadata": {
        "id": "udFhDFcqQTSZ"
      }
    },
    {
      "cell_type": "code",
      "source": [
        "from tensorflow.keras.models import Sequential\n",
        "from tensorflow.keras.layers import Conv2D, MaxPooling2D, Flatten, Dense, Dropout, BatchNormalization\n",
        "from tensorflow.keras.callbacks import EarlyStopping, LearningRateScheduler, ModelCheckpoint\n",
        "\n",
        "# Define a simple CNN model\n",
        "model = Sequential([\n",
        "    Conv2D(32, (3,3), activation='relu', input_shape=(100, 100, 3)),\n",
        "    MaxPooling2D(2,2),\n",
        "    Conv2D(64, (3,3), activation='relu'),\n",
        "    MaxPooling2D(2,2),\n",
        "    Flatten(),\n",
        "    Dense(512, activation='relu'),\n",
        "    Dense(len(mlb.classes_), activation='sigmoid')\n",
        "])\n",
        "\n",
        "# New model\n",
        "model = Sequential([\n",
        "    Conv2D(32, (3,3), activation='relu', input_shape=(100, 100, 3)),\n",
        "    BatchNormalization(),\n",
        "    MaxPooling2D(2,2),\n",
        "    Conv2D(64, (3,3), activation='relu'),\n",
        "    BatchNormalization(),\n",
        "    MaxPooling2D(2,2),\n",
        "    Conv2D(128, (3,3), activation='relu'),\n",
        "    BatchNormalization(),\n",
        "    MaxPooling2D(2,2),\n",
        "    Flatten(),\n",
        "    Dense(512, activation='relu'),\n",
        "    BatchNormalization(),\n",
        "    Dense(len(mlb.classes_), activation='sigmoid')\n",
        "])\n",
        "\n",
        "# Callback for EarlyStopping\n",
        "early_stopping = EarlyStopping(monitor='val_loss',\n",
        "                               patience=3,\n",
        "                               verbose=1,\n",
        "                               restore_best_weights=True)\n",
        "\n",
        "# Callback for Learning Rate Scheduler\n",
        "def scheduler(epoch, lr):\n",
        "    if epoch < 3:\n",
        "        return lr\n",
        "    else:\n",
        "        return lr * np.exp(-0.1)\n",
        "\n",
        "learning_rate_scheduler = LearningRateScheduler(scheduler, verbose=1)\n",
        "\n",
        "# Callback for ModelCheckpoint (save the best model only)\n",
        "model_checkpoint = ModelCheckpoint(\n",
        "    data_path + 'models/best_model.keras',\n",
        "    monitor='val_loss',  # Metric to monitor\n",
        "    save_best_only=True, # Only save a model if `val_loss` has improved\n",
        "    verbose=1\n",
        ")\n",
        "\n",
        "# Compile the model\n",
        "model.compile(optimizer='adam',\n",
        "              loss='binary_crossentropy',\n",
        "              metrics=['accuracy'])"
      ],
      "metadata": {
        "id": "FUewSlYBnQNd"
      },
      "execution_count": 40,
      "outputs": []
    },
    {
      "cell_type": "code",
      "source": [
        "model.summary()"
      ],
      "metadata": {
        "colab": {
          "base_uri": "https://localhost:8080/"
        },
        "id": "-6vJXX51L4Ot",
        "outputId": "e0926c72-cc64-4700-9148-93ec4f96a5fd"
      },
      "execution_count": 41,
      "outputs": [
        {
          "output_type": "stream",
          "name": "stdout",
          "text": [
            "Model: \"sequential_11\"\n",
            "_________________________________________________________________\n",
            " Layer (type)                Output Shape              Param #   \n",
            "=================================================================\n",
            " conv2d_25 (Conv2D)          (None, 98, 98, 32)        896       \n",
            "                                                                 \n",
            " batch_normalization_12 (Ba  (None, 98, 98, 32)        128       \n",
            " tchNormalization)                                               \n",
            "                                                                 \n",
            " max_pooling2d_25 (MaxPooli  (None, 49, 49, 32)        0         \n",
            " ng2D)                                                           \n",
            "                                                                 \n",
            " conv2d_26 (Conv2D)          (None, 47, 47, 64)        18496     \n",
            "                                                                 \n",
            " batch_normalization_13 (Ba  (None, 47, 47, 64)        256       \n",
            " tchNormalization)                                               \n",
            "                                                                 \n",
            " max_pooling2d_26 (MaxPooli  (None, 23, 23, 64)        0         \n",
            " ng2D)                                                           \n",
            "                                                                 \n",
            " conv2d_27 (Conv2D)          (None, 21, 21, 128)       73856     \n",
            "                                                                 \n",
            " batch_normalization_14 (Ba  (None, 21, 21, 128)       512       \n",
            " tchNormalization)                                               \n",
            "                                                                 \n",
            " max_pooling2d_27 (MaxPooli  (None, 10, 10, 128)       0         \n",
            " ng2D)                                                           \n",
            "                                                                 \n",
            " flatten_11 (Flatten)        (None, 12800)             0         \n",
            "                                                                 \n",
            " dense_22 (Dense)            (None, 512)               6554112   \n",
            "                                                                 \n",
            " batch_normalization_15 (Ba  (None, 512)               2048      \n",
            " tchNormalization)                                               \n",
            "                                                                 \n",
            " dense_23 (Dense)            (None, 17)                8721      \n",
            "                                                                 \n",
            "=================================================================\n",
            "Total params: 6659025 (25.40 MB)\n",
            "Trainable params: 6657553 (25.40 MB)\n",
            "Non-trainable params: 1472 (5.75 KB)\n",
            "_________________________________________________________________\n"
          ]
        }
      ]
    },
    {
      "cell_type": "code",
      "source": [
        "# Adjust steps based on data size and batch size\n",
        "steps_per_epoch = len(train_data) // batch_size\n",
        "validation_steps = len(val_data) // batch_size\n",
        "\n",
        "# Fit the model using the generator\n",
        "model.fit(train_generator,\n",
        "          steps_per_epoch=steps_per_epoch,\n",
        "          validation_data=val_generator,\n",
        "          validation_steps=validation_steps,\n",
        "          epochs=10,\n",
        "          callbacks=[early_stopping, learning_rate_scheduler, model_checkpoint])"
      ],
      "metadata": {
        "colab": {
          "base_uri": "https://localhost:8080/"
        },
        "id": "FNR0UmhWL6Jv",
        "outputId": "08f692e6-705b-45ab-dff7-c3d16eba843d"
      },
      "execution_count": 42,
      "outputs": [
        {
          "output_type": "stream",
          "name": "stdout",
          "text": [
            "\n",
            "Epoch 1: LearningRateScheduler setting learning rate to 0.0010000000474974513.\n",
            "Epoch 1/10\n",
            "50/50 [==============================] - ETA: 0s - loss: 0.6297 - accuracy: 0.5267\n",
            "Epoch 1: val_loss improved from inf to 0.50639, saving model to /content/drive/Shareddrives/computer-vision-project/Data/Unzipped/planet/planet/models/best_model.keras\n",
            "50/50 [==============================] - 53s 1s/step - loss: 0.6297 - accuracy: 0.5267 - val_loss: 0.5064 - val_accuracy: 0.4678 - lr: 0.0010\n",
            "\n",
            "Epoch 2: LearningRateScheduler setting learning rate to 0.0010000000474974513.\n",
            "Epoch 2/10\n",
            "50/50 [==============================] - ETA: 0s - loss: 0.3519 - accuracy: 0.4912\n",
            "Epoch 2: val_loss improved from 0.50639 to 0.31073, saving model to /content/drive/Shareddrives/computer-vision-project/Data/Unzipped/planet/planet/models/best_model.keras\n",
            "50/50 [==============================] - 49s 996ms/step - loss: 0.3519 - accuracy: 0.4912 - val_loss: 0.3107 - val_accuracy: 0.4451 - lr: 0.0010\n",
            "\n",
            "Epoch 3: LearningRateScheduler setting learning rate to 0.0010000000474974513.\n",
            "Epoch 3/10\n",
            "50/50 [==============================] - ETA: 0s - loss: 0.2089 - accuracy: 0.2284\n",
            "Epoch 3: val_loss improved from 0.31073 to 0.29046, saving model to /content/drive/Shareddrives/computer-vision-project/Data/Unzipped/planet/planet/models/best_model.keras\n",
            "50/50 [==============================] - 56s 1s/step - loss: 0.2089 - accuracy: 0.2284 - val_loss: 0.2905 - val_accuracy: 0.1537 - lr: 0.0010\n",
            "\n",
            "Epoch 4: LearningRateScheduler setting learning rate to 0.0009048374610134307.\n",
            "Epoch 4/10\n",
            "50/50 [==============================] - ETA: 0s - loss: 0.1810 - accuracy: 0.0859\n",
            "Epoch 4: val_loss improved from 0.29046 to 0.26259, saving model to /content/drive/Shareddrives/computer-vision-project/Data/Unzipped/planet/planet/models/best_model.keras\n",
            "50/50 [==============================] - 49s 1s/step - loss: 0.1810 - accuracy: 0.0859 - val_loss: 0.2626 - val_accuracy: 0.0000e+00 - lr: 9.0484e-04\n",
            "\n",
            "Epoch 5: LearningRateScheduler setting learning rate to 0.0008187307807475673.\n",
            "Epoch 5/10\n",
            "50/50 [==============================] - ETA: 0s - loss: 0.1727 - accuracy: 0.0857\n",
            "Epoch 5: val_loss improved from 0.26259 to 0.24447, saving model to /content/drive/Shareddrives/computer-vision-project/Data/Unzipped/planet/planet/models/best_model.keras\n",
            "50/50 [==============================] - 57s 1s/step - loss: 0.1727 - accuracy: 0.0857 - val_loss: 0.2445 - val_accuracy: 0.0176 - lr: 8.1873e-04\n",
            "\n",
            "Epoch 6: LearningRateScheduler setting learning rate to 0.0007408182609837606.\n",
            "Epoch 6/10\n",
            "50/50 [==============================] - ETA: 0s - loss: 0.1645 - accuracy: 0.1002\n",
            "Epoch 6: val_loss did not improve from 0.24447\n",
            "50/50 [==============================] - 51s 1s/step - loss: 0.1645 - accuracy: 0.1002 - val_loss: 0.2826 - val_accuracy: 0.3053 - lr: 7.4082e-04\n",
            "\n",
            "Epoch 7: LearningRateScheduler setting learning rate to 0.0006703200923609524.\n",
            "Epoch 7/10\n",
            "50/50 [==============================] - ETA: 0s - loss: 0.1608 - accuracy: 0.0733\n",
            "Epoch 7: val_loss improved from 0.24447 to 0.23998, saving model to /content/drive/Shareddrives/computer-vision-project/Data/Unzipped/planet/planet/models/best_model.keras\n",
            "50/50 [==============================] - 48s 968ms/step - loss: 0.1608 - accuracy: 0.0733 - val_loss: 0.2400 - val_accuracy: 0.1625 - lr: 6.7032e-04\n",
            "\n",
            "Epoch 8: LearningRateScheduler setting learning rate to 0.000606530675391766.\n",
            "Epoch 8/10\n",
            "50/50 [==============================] - ETA: 0s - loss: 0.1556 - accuracy: 0.0915\n",
            "Epoch 8: val_loss improved from 0.23998 to 0.23076, saving model to /content/drive/Shareddrives/computer-vision-project/Data/Unzipped/planet/planet/models/best_model.keras\n",
            "50/50 [==============================] - 55s 1s/step - loss: 0.1556 - accuracy: 0.0915 - val_loss: 0.2308 - val_accuracy: 0.1962 - lr: 6.0653e-04\n",
            "\n",
            "Epoch 9: LearningRateScheduler setting learning rate to 0.0005488116682245179.\n",
            "Epoch 9/10\n",
            "50/50 [==============================] - ETA: 0s - loss: 0.1535 - accuracy: 0.0785\n",
            "Epoch 9: val_loss improved from 0.23076 to 0.22906, saving model to /content/drive/Shareddrives/computer-vision-project/Data/Unzipped/planet/planet/models/best_model.keras\n",
            "50/50 [==============================] - 54s 1s/step - loss: 0.1535 - accuracy: 0.0785 - val_loss: 0.2291 - val_accuracy: 0.3236 - lr: 5.4881e-04\n",
            "\n",
            "Epoch 10: LearningRateScheduler setting learning rate to 0.0004965853504160465.\n",
            "Epoch 10/10\n",
            "50/50 [==============================] - ETA: 0s - loss: 0.1515 - accuracy: 0.0911\n",
            "Epoch 10: val_loss did not improve from 0.22906\n",
            "50/50 [==============================] - 79s 2s/step - loss: 0.1515 - accuracy: 0.0911 - val_loss: 0.2321 - val_accuracy: 0.4158 - lr: 4.9659e-04\n"
          ]
        },
        {
          "output_type": "execute_result",
          "data": {
            "text/plain": [
              "<keras.src.callbacks.History at 0x7902ac1e34c0>"
            ]
          },
          "metadata": {},
          "execution_count": 42
        }
      ]
    }
  ]
}