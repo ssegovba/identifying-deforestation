{
  "nbformat": 4,
  "nbformat_minor": 0,
  "metadata": {
    "colab": {
      "provenance": [],
      "authorship_tag": "ABX9TyPDC2FECeqC8NgtDXlJRz1f",
      "include_colab_link": true
    },
    "kernelspec": {
      "name": "python3",
      "display_name": "Python 3"
    },
    "language_info": {
      "name": "python"
    }
  },
  "cells": [
    {
      "cell_type": "markdown",
      "metadata": {
        "id": "view-in-github",
        "colab_type": "text"
      },
      "source": [
        "<a href=\"https://colab.research.google.com/github/ssegovba/identifying-deforestation/blob/main/create_yaml.ipynb\" target=\"_parent\"><img src=\"https://colab.research.google.com/assets/colab-badge.svg\" alt=\"Open In Colab\"/></a>"
      ]
    },
    {
      "cell_type": "code",
      "execution_count": null,
      "metadata": {
        "colab": {
          "base_uri": "https://localhost:8080/"
        },
        "id": "m3HPvFFr-OG6",
        "outputId": "379b43c9-da42-4212-9914-337ab455d988"
      },
      "outputs": [
        {
          "output_type": "stream",
          "name": "stdout",
          "text": [
            "Mounted at /content/drive\n"
          ]
        }
      ],
      "source": [
        "from google.colab import drive\n",
        "drive.mount(\"/content/drive\", force_remount=True)"
      ]
    },
    {
      "cell_type": "code",
      "source": [
        "yaml_content = \"\"\"\n",
        "# YOLOv5 dataset configuration (custom use)\n",
        "\n",
        "# Paths to images and masks\n",
        "train: /content/drive/Shareddrives/computer-vision-project/Data/Unzipped/planet/planet/train_seg_tagged\n",
        "val: /content/drive/Shareddrives/computer-vision-project/Data/Unzipped/planet/planet/test-jpg\n",
        "\n",
        "# Number of classes\n",
        "nc: 2  # Number of classes\n",
        "\n",
        "# Class names\n",
        "names: ['background', 'primary']\n",
        "\"\"\"\n",
        "\n",
        "# Path to save the YAML file\n",
        "yaml_file_path = '/content/drive/Shareddrives/computer-vision-project/Data/Unzipped/planet/planet/deforrest_seg.yaml'\n",
        "\n",
        "# Write the YAML file\n",
        "with open(yaml_file_path, 'w') as file:\n",
        "    file.write(yaml_content)\n",
        "\n",
        "print(f\"YAML file created and saved at {yaml_file_path}\")\n"
      ],
      "metadata": {
        "colab": {
          "base_uri": "https://localhost:8080/"
        },
        "id": "c8O0NRa3HzNX",
        "outputId": "a4f4990e-140f-48f3-df35-9a37d6fc205d"
      },
      "execution_count": null,
      "outputs": [
        {
          "output_type": "stream",
          "name": "stdout",
          "text": [
            "YAML file created and saved at /content/drive/Shareddrives/computer-vision-project/Data/Unzipped/planet/planet/deforrest_seg.yaml\n"
          ]
        }
      ]
    }
  ]
}