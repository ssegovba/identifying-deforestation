{
  "nbformat": 4,
  "nbformat_minor": 0,
  "metadata": {
    "colab": {
      "provenance": [],
      "include_colab_link": true
    },
    "kernelspec": {
      "name": "python3",
      "display_name": "Python 3"
    },
    "language_info": {
      "name": "python"
    }
  },
  "cells": [
    {
      "cell_type": "markdown",
      "metadata": {
        "id": "view-in-github",
        "colab_type": "text"
      },
      "source": [
        "<a href=\"https://colab.research.google.com/github/ssegovba/identifying-deforestation/blob/main/segmentation_cleaning.ipynb\" target=\"_parent\"><img src=\"https://colab.research.google.com/assets/colab-badge.svg\" alt=\"Open In Colab\"/></a>"
      ]
    },
    {
      "cell_type": "markdown",
      "source": [
        "For segmentation we take all classes in our data set, assign them a label, and then each label will coresponds to a color and the images will be reduced to a color map with each color representing a class.\n",
        "\n",
        "Tha goal is to identify Deforesstation through the presence of agriculture (since trees are cut down to clear land for farms). Initially the plan was to keep the same classes; forrest coverage is a class, argiculture coverage is a class, and then the additional classes for water, roads, etc(anything that isnt forrest). However, this data is not tagged for segmentation so it needs to be done manually.\n",
        "\n",
        "Since we are only interested in how much forrest coverage there is, separating classes of man-made object i.e. mines, agriculture, etc. isnt necessary since they all indicate deforrestation. Therefore, we decided to have two classes and have a binary mask apllied to the segmentation training images.  \n",
        "\n",
        "For optimized trainings, we want to include training images that contain as many classes as possible while also keeping a balance of images that are tagged clear, partly-cloudy, and haze so that the model can learn to identify deforestation regardless of weather conditions. In this script we select 200 training images based on this criteria.\n"
      ],
      "metadata": {
        "id": "6ze2BoHIIdUt"
      }
    },
    {
      "cell_type": "code",
      "source": [
        "import os\n",
        "import glob\n",
        "import shutil\n",
        "#import keras\n",
        "import sklearn\n",
        "#import tensorflow\n",
        "import numpy as np\n",
        "import pandas as pd\n",
        "from osgeo import gdal\n",
        "import matplotlib.pyplot as plt\n",
        "import seaborn as sns\n",
        "import cv2\n",
        "from matplotlib import pyplot as plt\n",
        "%matplotlib inline\n",
        "from PIL import Image\n",
        "from sklearn.preprocessing import MultiLabelBinarizer\n",
        "import json\n",
        "from google.colab import drive"
      ],
      "metadata": {
        "id": "RuK9RmOhJpnU"
      },
      "execution_count": 3,
      "outputs": []
    },
    {
      "cell_type": "code",
      "source": [
        "# Mount GDrive\n",
        "drive.mount(\"/content/drive\", force_remount=True)\n"
      ],
      "metadata": {
        "colab": {
          "base_uri": "https://localhost:8080/"
        },
        "id": "ZP_hhdQyM2aE",
        "outputId": "f60383b4-9a2a-42ba-dd31-16306a812860"
      },
      "execution_count": 4,
      "outputs": [
        {
          "output_type": "stream",
          "name": "stdout",
          "text": [
            "Mounted at /content/drive\n"
          ]
        }
      ]
    },
    {
      "cell_type": "code",
      "source": [
        "# Load data\n",
        "data_path = \"/content/drive/Shareddrives/computer-vision-project/Data/Unzipped/planet/planet/\"\n",
        "train_path = \"/content/drive/Shareddrives/computer-vision-project/Data/Unzipped/planet/planet/train-jpg\"\n",
        "test_path = \"/content/drive/Shareddrives/computer-vision-project/Data/Unzipped/planet/planet/test-jpg\"\n",
        "\n",
        "labels_df = pd.read_csv(data_path + \"train_classes.csv\")\n",
        "print(labels_df)\n"
      ],
      "metadata": {
        "id": "CVwfCJ28dtdL",
        "colab": {
          "base_uri": "https://localhost:8080/"
        },
        "outputId": "4ca1f145-1b95-4ebc-f154-e17e75e87005"
      },
      "execution_count": 6,
      "outputs": [
        {
          "output_type": "stream",
          "name": "stdout",
          "text": [
            "        image_name                                           tags\n",
            "0          train_0                                   haze primary\n",
            "1          train_1                agriculture clear primary water\n",
            "2          train_2                                  clear primary\n",
            "3          train_3                                  clear primary\n",
            "4          train_4      agriculture clear habitation primary road\n",
            "...            ...                                            ...\n",
            "40474  train_40474                                  clear primary\n",
            "40475  train_40475                                         cloudy\n",
            "40476  train_40476                      agriculture clear primary\n",
            "40477  train_40477                 agriculture clear primary road\n",
            "40478  train_40478  agriculture cultivation partly_cloudy primary\n",
            "\n",
            "[40479 rows x 2 columns]\n"
          ]
        }
      ]
    },
    {
      "cell_type": "code",
      "source": [
        "# Add extension so image names match file names\n",
        "labels_df['image_name'] = labels_df['image_name'].apply(lambda x: x + '.jpg')\n",
        "\n",
        "# Convert the space-separated tags into a list of tags\n",
        "labels_df['tags'] = labels_df['tags'].apply(lambda x: x.split())\n",
        "\n",
        "# Use a MultiLabelBinarizer for the tags for model training\n",
        "mlb = MultiLabelBinarizer()\n",
        "labels_df['encoded_tags'] = list(mlb.fit_transform(labels_df['tags']))\n",
        "\n",
        "print(labels_df)"
      ],
      "metadata": {
        "id": "tNNsITElRZtz",
        "colab": {
          "base_uri": "https://localhost:8080/"
        },
        "outputId": "494ae552-2339-4606-ac3f-89c10a6968e1"
      },
      "execution_count": 7,
      "outputs": [
        {
          "output_type": "stream",
          "name": "stdout",
          "text": [
            "            image_name                                               tags  \\\n",
            "0          train_0.jpg                                    [haze, primary]   \n",
            "1          train_1.jpg               [agriculture, clear, primary, water]   \n",
            "2          train_2.jpg                                   [clear, primary]   \n",
            "3          train_3.jpg                                   [clear, primary]   \n",
            "4          train_4.jpg    [agriculture, clear, habitation, primary, road]   \n",
            "...                ...                                                ...   \n",
            "40474  train_40474.jpg                                   [clear, primary]   \n",
            "40475  train_40475.jpg                                           [cloudy]   \n",
            "40476  train_40476.jpg                      [agriculture, clear, primary]   \n",
            "40477  train_40477.jpg                [agriculture, clear, primary, road]   \n",
            "40478  train_40478.jpg  [agriculture, cultivation, partly_cloudy, prim...   \n",
            "\n",
            "                                            encoded_tags  \n",
            "0      [0, 0, 0, 0, 0, 0, 0, 0, 0, 0, 1, 0, 1, 0, 0, ...  \n",
            "1      [1, 0, 0, 0, 0, 1, 0, 0, 0, 0, 0, 0, 1, 0, 0, ...  \n",
            "2      [0, 0, 0, 0, 0, 1, 0, 0, 0, 0, 0, 0, 1, 0, 0, ...  \n",
            "3      [0, 0, 0, 0, 0, 1, 0, 0, 0, 0, 0, 0, 1, 0, 0, ...  \n",
            "4      [1, 0, 0, 0, 0, 1, 0, 0, 0, 1, 0, 0, 1, 1, 0, ...  \n",
            "...                                                  ...  \n",
            "40474  [0, 0, 0, 0, 0, 1, 0, 0, 0, 0, 0, 0, 1, 0, 0, ...  \n",
            "40475  [0, 0, 0, 0, 0, 0, 1, 0, 0, 0, 0, 0, 0, 0, 0, ...  \n",
            "40476  [1, 0, 0, 0, 0, 1, 0, 0, 0, 0, 0, 0, 1, 0, 0, ...  \n",
            "40477  [1, 0, 0, 0, 0, 1, 0, 0, 0, 0, 0, 0, 1, 1, 0, ...  \n",
            "40478  [1, 0, 0, 0, 0, 0, 0, 0, 1, 0, 0, 1, 1, 0, 0, ...  \n",
            "\n",
            "[40479 rows x 3 columns]\n"
          ]
        }
      ]
    },
    {
      "cell_type": "code",
      "source": [
        "# function to print all classes in an image to assist with manual tagging\n",
        "def get_image_classes(image_name):\n",
        "    # Filter the DataFrame for the row where the image_name matches\n",
        "    image_classes = labels_df[labels_df['image_name'] == image_name]\n",
        "\n",
        "    # Check if the image_name exists in the DataFrame\n",
        "    if not image_classes.empty:\n",
        "        # Return the tags associated with the image\n",
        "        return image_classes['tags'].values[0]\n",
        "    else:\n",
        "        return \"Image name not found\"\n",
        "\n",
        "# image_name = \"train_16352.jpg\" is crazy\n",
        "image_name = \"train_38754.jpg\"\n",
        "print(get_image_classes(image_name))"
      ],
      "metadata": {
        "colab": {
          "base_uri": "https://localhost:8080/"
        },
        "id": "uhwy0zt9OKDZ",
        "outputId": "5957df1c-1bf0-4cfc-f0ff-3ee805d69aea"
      },
      "execution_count": 8,
      "outputs": [
        {
          "output_type": "stream",
          "name": "stdout",
          "text": [
            "['agriculture', 'bare_ground', 'clear', 'cultivation', 'habitation', 'primary', 'road', 'water']\n"
          ]
        }
      ]
    },
    {
      "cell_type": "code",
      "source": [
        "# list of all possible tags\n",
        "unique_tags = set(tag for sublist in labels_df['tags'] for tag in sublist)\n",
        "unique_tags = sorted(list(unique_tags))\n",
        "print(unique_tags)"
      ],
      "metadata": {
        "colab": {
          "base_uri": "https://localhost:8080/"
        },
        "id": "FS_NDKNmXx2-",
        "outputId": "c55ea88f-0abb-42d3-df62-a72d73a4cca0"
      },
      "execution_count": 9,
      "outputs": [
        {
          "output_type": "stream",
          "name": "stdout",
          "text": [
            "['agriculture', 'artisinal_mine', 'bare_ground', 'blooming', 'blow_down', 'clear', 'cloudy', 'conventional_mine', 'cultivation', 'habitation', 'haze', 'partly_cloudy', 'primary', 'road', 'selective_logging', 'slash_burn', 'water']\n"
          ]
        }
      ]
    },
    {
      "cell_type": "code",
      "source": [
        "labels_df['tag_count'] = labels_df['tags'].apply(len)\n",
        "max_tags = labels_df['tag_count'].max()\n",
        "print(\"The maximum number of tags in a single image is:\", max_tags)"
      ],
      "metadata": {
        "colab": {
          "base_uri": "https://localhost:8080/"
        },
        "id": "tNChSe4sYvuC",
        "outputId": "c4a1c4f3-97c2-41e6-9d78-c97148c0e978"
      },
      "execution_count": 10,
      "outputs": [
        {
          "output_type": "stream",
          "name": "stdout",
          "text": [
            "The maximum number of tags in a single image is: 9\n"
          ]
        }
      ]
    },
    {
      "cell_type": "code",
      "source": [
        "# Flatten the list of tags from these filtered images and count each tag\n",
        "tag_counts = {}\n",
        "for tags_list in labels_df['tags']:\n",
        "    for tag in tags_list:\n",
        "        if tag in tag_counts:\n",
        "            tag_counts[tag] += 1\n",
        "        else:\n",
        "            tag_counts[tag] = 1\n",
        "\n",
        "# Convert the dictionary to a list of tuples sorted by the number of occurrences, descending\n",
        "sorted_tag_counts = sorted(tag_counts.items(), key=lambda item: item[1], reverse=True)\n",
        "\n",
        "# Print the sorted list of tags and their counts\n",
        "for tag, count in sorted_tag_counts:\n",
        "    print(f\"Tag: {tag}, Count: {count}\")"
      ],
      "metadata": {
        "colab": {
          "base_uri": "https://localhost:8080/"
        },
        "id": "7rlnkij1pQ3X",
        "outputId": "2eca13dc-8ecb-4af6-9ae3-db6a885efe59"
      },
      "execution_count": 11,
      "outputs": [
        {
          "output_type": "stream",
          "name": "stdout",
          "text": [
            "Tag: primary, Count: 37513\n",
            "Tag: clear, Count: 28431\n",
            "Tag: agriculture, Count: 12315\n",
            "Tag: road, Count: 8071\n",
            "Tag: water, Count: 7411\n",
            "Tag: partly_cloudy, Count: 7261\n",
            "Tag: cultivation, Count: 4547\n",
            "Tag: habitation, Count: 3660\n",
            "Tag: haze, Count: 2697\n",
            "Tag: cloudy, Count: 2089\n",
            "Tag: bare_ground, Count: 862\n",
            "Tag: selective_logging, Count: 340\n",
            "Tag: artisinal_mine, Count: 339\n",
            "Tag: blooming, Count: 332\n",
            "Tag: slash_burn, Count: 209\n",
            "Tag: blow_down, Count: 101\n",
            "Tag: conventional_mine, Count: 100\n"
          ]
        }
      ]
    },
    {
      "cell_type": "code",
      "source": [
        "tag_counts = {}\n",
        "\n",
        "# Loop through the numbers 1 to 9 and count the occurrences of each tag count\n",
        "for i in range(1, 10):\n",
        "    tag_counts[i] = (labels_df['tag_count'] == i).sum()\n",
        "\n",
        "for tag_count, num_images in tag_counts.items():\n",
        "    print(f\"Number of images with exactly {tag_count} tags: {num_images}\")"
      ],
      "metadata": {
        "colab": {
          "base_uri": "https://localhost:8080/"
        },
        "id": "9EugAzfmZNGP",
        "outputId": "5593d24d-8468-4bd2-ef45-310c3b7b25a2"
      },
      "execution_count": 12,
      "outputs": [
        {
          "output_type": "stream",
          "name": "stdout",
          "text": [
            "Number of images with exactly 1 tags: 2091\n",
            "Number of images with exactly 2 tags: 19176\n",
            "Number of images with exactly 3 tags: 7192\n",
            "Number of images with exactly 4 tags: 7171\n",
            "Number of images with exactly 5 tags: 3700\n",
            "Number of images with exactly 6 tags: 996\n",
            "Number of images with exactly 7 tags: 127\n",
            "Number of images with exactly 8 tags: 24\n",
            "Number of images with exactly 9 tags: 2\n"
          ]
        }
      ]
    },
    {
      "cell_type": "markdown",
      "source": [
        "The number of images with 7-9 tags(the highest number of tage images can have) is 153 so we will pull a list of those images into a seperate data frame. The number of imgaes with the next highest tag count(6) is 996. This is too many. So we will first check how representative the classes/tags are amoung images with the most tags, and randomly select images that have the unrepresented tags from the pool that has 6 tags."
      ],
      "metadata": {
        "id": "3qbaIyjIOGYh"
      }
    },
    {
      "cell_type": "code",
      "source": [
        "filtered_df = labels_df[labels_df['tag_count'].isin([7, 8, 9])]\n",
        "\n",
        "# Flatten the list of tags from these filtered images and count each tag\n",
        "tag_counts = {}\n",
        "for tags_list in filtered_df['tags']:\n",
        "    for tag in tags_list:\n",
        "        if tag in tag_counts:\n",
        "            tag_counts[tag] += 1\n",
        "        else:\n",
        "            tag_counts[tag] = 1\n",
        "\n",
        "# Convert the dictionary to a list of tuples sorted by the number of occurrences, descending\n",
        "sorted_tag_counts = sorted(tag_counts.items(), key=lambda item: item[1], reverse=True)\n",
        "\n",
        "# Print the sorted list of tags and their counts\n",
        "for tag, count in sorted_tag_counts:\n",
        "    print(f\"Tag: {tag}, Count: {count}\")\n"
      ],
      "metadata": {
        "colab": {
          "base_uri": "https://localhost:8080/"
        },
        "id": "d5aHz2-Qagkc",
        "outputId": "0e9b74eb-14a0-42e5-c75b-926f92d9f41a"
      },
      "execution_count": 13,
      "outputs": [
        {
          "output_type": "stream",
          "name": "stdout",
          "text": [
            "Tag: cultivation, Count: 162\n",
            "Tag: primary, Count: 152\n",
            "Tag: road, Count: 147\n",
            "Tag: agriculture, Count: 144\n",
            "Tag: habitation, Count: 144\n",
            "Tag: clear, Count: 139\n",
            "Tag: water, Count: 122\n",
            "Tag: bare_ground, Count: 30\n",
            "Tag: artisinal_mine, Count: 16\n",
            "Tag: partly_cloudy, Count: 12\n",
            "Tag: slash_burn, Count: 10\n",
            "Tag: selective_logging, Count: 9\n",
            "Tag: conventional_mine, Count: 9\n",
            "Tag: haze, Count: 2\n",
            "Tag: blooming, Count: 1\n"
          ]
        }
      ]
    },
    {
      "cell_type": "markdown",
      "source": [
        "The goal is aroughly 66/66/66 split between the three mutuallly exclusive classes. Clear is overrepresented, and partly_cloudy and haze are very underrepresented. So we will randomly drop some of the images tagged clear from the list, and select images from the pool of images that have 6 tags that are tagged partly_cloudy or haze. If this pool does not have enough we will move to randomly select from the pool of images with 5 tags total."
      ],
      "metadata": {
        "id": "GBTHDXtFPRIM"
      }
    },
    {
      "cell_type": "code",
      "source": [
        "# Filter the DataFrame to find rows where 'tag_count' is 6 and 'tags' contains 'haze'\n",
        "tag6_haze_df = labels_df[(labels_df['tag_count'] == 6) & (labels_df['tags'].apply(lambda x: 'haze' in x))]\n",
        "\n",
        "print(len(tag6_haze_df))\n"
      ],
      "metadata": {
        "colab": {
          "base_uri": "https://localhost:8080/"
        },
        "id": "6rUCl0WVb1wv",
        "outputId": "c15c05a2-d7ff-4806-f793-3808ec667074"
      },
      "execution_count": 14,
      "outputs": [
        {
          "output_type": "stream",
          "name": "stdout",
          "text": [
            "34\n"
          ]
        }
      ]
    },
    {
      "cell_type": "code",
      "source": [
        "# Flatten the list of tags from these filtered images and count each tag\n",
        "tag_counts_tag6 = {}\n",
        "for tags_list in tag6_haze_df['tags']:\n",
        "    for tag in tags_list:\n",
        "        if tag in tag_counts_tag6:\n",
        "            tag_counts_tag6[tag] += 1\n",
        "        else:\n",
        "            tag_counts_tag6[tag] = 1\n",
        "\n",
        "# Convert the dictionary to a list of tuples sorted by the number of occurrences, descending\n",
        "sorted_tag_counts6 = sorted(tag_counts_tag6.items(), key=lambda item: item[1], reverse=True)\n",
        "\n",
        "# Print the sorted list of tags and their counts\n",
        "for tag, count in sorted_tag_counts6:\n",
        "    print(f\"Tag: {tag}, Count: {count}\")"
      ],
      "metadata": {
        "colab": {
          "base_uri": "https://localhost:8080/"
        },
        "id": "QXwcOOQDcV98",
        "outputId": "c71358bc-4360-4feb-ce04-43d83c78c301"
      },
      "execution_count": 15,
      "outputs": [
        {
          "output_type": "stream",
          "name": "stdout",
          "text": [
            "Tag: haze, Count: 34\n",
            "Tag: primary, Count: 34\n",
            "Tag: agriculture, Count: 33\n",
            "Tag: cultivation, Count: 31\n",
            "Tag: road, Count: 30\n",
            "Tag: habitation, Count: 22\n",
            "Tag: water, Count: 17\n",
            "Tag: bare_ground, Count: 3\n"
          ]
        }
      ]
    },
    {
      "cell_type": "code",
      "source": [
        "# The number of images from the 6 tags pool with the haze tag is 34,\n",
        "# which gets us to 36/66 so we will merge all of those and then randomly select\n",
        "# from the pool with 5 tags.\n",
        "merged_df = pd.concat([filtered_df, tag6_haze_df], ignore_index=True)\n",
        "print(len(merged_df))\n",
        "print(merged_df)\n"
      ],
      "metadata": {
        "colab": {
          "base_uri": "https://localhost:8080/"
        },
        "id": "JXFD2hXScxJx",
        "outputId": "de8eb1ce-8119-4d4f-8f09-284f1511866b"
      },
      "execution_count": 16,
      "outputs": [
        {
          "output_type": "stream",
          "name": "stdout",
          "text": [
            "187\n",
            "          image_name                                               tags  \\\n",
            "0      train_185.jpg  [agriculture, artisinal_mine, clear, cultivati...   \n",
            "1      train_222.jpg  [agriculture, clear, cultivation, habitation, ...   \n",
            "2      train_247.jpg  [agriculture, clear, cultivation, habitation, ...   \n",
            "3      train_680.jpg  [agriculture, clear, cultivation, habitation, ...   \n",
            "4      train_728.jpg  [agriculture, clear, cultivation, habitation, ...   \n",
            "..               ...                                                ...   \n",
            "182  train_33452.jpg  [cultivation, habitation, haze, primary, road,...   \n",
            "183  train_33860.jpg  [agriculture, habitation, haze, primary, road,...   \n",
            "184  train_35249.jpg  [agriculture, cultivation, haze, primary, road...   \n",
            "185  train_37481.jpg  [agriculture, cultivation, habitation, haze, p...   \n",
            "186  train_38283.jpg  [agriculture, cultivation, haze, primary, road...   \n",
            "\n",
            "                                          encoded_tags  tag_count  \n",
            "0    [1, 1, 0, 0, 0, 1, 0, 0, 1, 1, 0, 0, 1, 1, 0, ...          8  \n",
            "1    [1, 0, 0, 0, 0, 1, 0, 0, 1, 1, 0, 0, 1, 1, 0, ...          7  \n",
            "2    [1, 0, 0, 0, 0, 1, 0, 0, 1, 1, 0, 0, 1, 1, 1, ...          7  \n",
            "3    [1, 0, 0, 0, 0, 1, 0, 0, 1, 1, 0, 0, 1, 1, 0, ...          7  \n",
            "4    [1, 0, 0, 0, 0, 1, 0, 0, 1, 1, 0, 0, 1, 1, 0, ...          7  \n",
            "..                                                 ...        ...  \n",
            "182  [0, 0, 0, 0, 0, 0, 0, 0, 1, 1, 1, 0, 1, 1, 0, ...          6  \n",
            "183  [1, 0, 0, 0, 0, 0, 0, 0, 0, 1, 1, 0, 1, 1, 0, ...          6  \n",
            "184  [1, 0, 0, 0, 0, 0, 0, 0, 1, 0, 1, 0, 1, 1, 0, ...          6  \n",
            "185  [1, 0, 0, 0, 0, 0, 0, 0, 1, 1, 1, 0, 1, 1, 0, ...          6  \n",
            "186  [1, 0, 0, 0, 0, 0, 0, 0, 1, 0, 1, 0, 1, 1, 0, ...          6  \n",
            "\n",
            "[187 rows x 4 columns]\n"
          ]
        }
      ]
    },
    {
      "cell_type": "code",
      "source": [
        "# Flatten the list of tags from these filtered images and count each tag\n",
        "tag_countsm = {}\n",
        "for tags_list in merged_df['tags']:\n",
        "    for tag in tags_list:\n",
        "        if tag in tag_countsm:\n",
        "            tag_countsm[tag] += 1\n",
        "        else:\n",
        "            tag_countsm[tag] = 1\n",
        "\n",
        "# Convert the dictionary to a list of tuples sorted by the number of occurrences, descending\n",
        "sorted_tag_countsm = sorted(tag_countsm.items(), key=lambda item: item[1], reverse=True)\n",
        "\n",
        "# Print the sorted list of tags and their counts\n",
        "for tag, count in sorted_tag_countsm:\n",
        "    print(f\"Tag: {tag}, Count: {count}\")"
      ],
      "metadata": {
        "colab": {
          "base_uri": "https://localhost:8080/"
        },
        "id": "4fX7_oIDggjq",
        "outputId": "e2260e24-ee2f-477e-815f-1b4731d21c3f"
      },
      "execution_count": 17,
      "outputs": [
        {
          "output_type": "stream",
          "name": "stdout",
          "text": [
            "Tag: cultivation, Count: 193\n",
            "Tag: primary, Count: 186\n",
            "Tag: agriculture, Count: 177\n",
            "Tag: road, Count: 177\n",
            "Tag: habitation, Count: 166\n",
            "Tag: clear, Count: 139\n",
            "Tag: water, Count: 139\n",
            "Tag: haze, Count: 36\n",
            "Tag: bare_ground, Count: 33\n",
            "Tag: artisinal_mine, Count: 16\n",
            "Tag: partly_cloudy, Count: 12\n",
            "Tag: slash_burn, Count: 10\n",
            "Tag: selective_logging, Count: 9\n",
            "Tag: conventional_mine, Count: 9\n",
            "Tag: blooming, Count: 1\n"
          ]
        }
      ]
    },
    {
      "cell_type": "code",
      "source": [
        "# Randomly drop excess images tagged clear but exclude images if they contain a\n",
        "# under represented tag.\n",
        "excluded_tags = {'bare_ground', 'artisinal_mine', 'slash_burn', 'selective_logging', 'conventional_mine', 'blooming'}\n",
        "\n",
        "# Filter rows where 'clear' is in the tags and none of the excluded tags are present\n",
        "rows_to_drop = merged_df[merged_df['tags'].apply(lambda x: 'clear' in x and not any(tag in x for tag in excluded_tags))]\n",
        "\n",
        "# Sample 70 rows from the filtered DataFrame\n",
        "if len(rows_to_drop) > 70:\n",
        "    rows_to_drop = rows_to_drop.sample(n=70, random_state=1)  # Using a fixed seed for reproducibility\n",
        "\n",
        "# Drop these rows from the original DataFrame\n",
        "clean_merged_df = merged_df.drop(rows_to_drop.index)\n",
        "\n",
        "print(clean_merged_df)"
      ],
      "metadata": {
        "colab": {
          "base_uri": "https://localhost:8080/"
        },
        "id": "e4MRLxCXiQOe",
        "outputId": "74aef6fa-d461-4f6b-c365-706ba79483d1"
      },
      "execution_count": 18,
      "outputs": [
        {
          "output_type": "stream",
          "name": "stdout",
          "text": [
            "          image_name                                               tags  \\\n",
            "0      train_185.jpg  [agriculture, artisinal_mine, clear, cultivati...   \n",
            "2      train_247.jpg  [agriculture, clear, cultivation, habitation, ...   \n",
            "3      train_680.jpg  [agriculture, clear, cultivation, habitation, ...   \n",
            "4      train_728.jpg  [agriculture, clear, cultivation, habitation, ...   \n",
            "7     train_1340.jpg  [agriculture, artisinal_mine, clear, cultivati...   \n",
            "..               ...                                                ...   \n",
            "182  train_33452.jpg  [cultivation, habitation, haze, primary, road,...   \n",
            "183  train_33860.jpg  [agriculture, habitation, haze, primary, road,...   \n",
            "184  train_35249.jpg  [agriculture, cultivation, haze, primary, road...   \n",
            "185  train_37481.jpg  [agriculture, cultivation, habitation, haze, p...   \n",
            "186  train_38283.jpg  [agriculture, cultivation, haze, primary, road...   \n",
            "\n",
            "                                          encoded_tags  tag_count  \n",
            "0    [1, 1, 0, 0, 0, 1, 0, 0, 1, 1, 0, 0, 1, 1, 0, ...          8  \n",
            "2    [1, 0, 0, 0, 0, 1, 0, 0, 1, 1, 0, 0, 1, 1, 1, ...          7  \n",
            "3    [1, 0, 0, 0, 0, 1, 0, 0, 1, 1, 0, 0, 1, 1, 0, ...          7  \n",
            "4    [1, 0, 0, 0, 0, 1, 0, 0, 1, 1, 0, 0, 1, 1, 0, ...          7  \n",
            "7    [1, 1, 0, 0, 0, 1, 0, 0, 1, 1, 0, 0, 1, 0, 0, ...          7  \n",
            "..                                                 ...        ...  \n",
            "182  [0, 0, 0, 0, 0, 0, 0, 0, 1, 1, 1, 0, 1, 1, 0, ...          6  \n",
            "183  [1, 0, 0, 0, 0, 0, 0, 0, 0, 1, 1, 0, 1, 1, 0, ...          6  \n",
            "184  [1, 0, 0, 0, 0, 0, 0, 0, 1, 0, 1, 0, 1, 1, 0, ...          6  \n",
            "185  [1, 0, 0, 0, 0, 0, 0, 0, 1, 1, 1, 0, 1, 1, 0, ...          6  \n",
            "186  [1, 0, 0, 0, 0, 0, 0, 0, 1, 0, 1, 0, 1, 1, 0, ...          6  \n",
            "\n",
            "[117 rows x 4 columns]\n"
          ]
        }
      ]
    },
    {
      "cell_type": "code",
      "source": [
        "# Filter the DataFrame to find rows where 'tag_count' is 6 and 'tags' contains 'haze'\n",
        "tag6_part_cloud_df = labels_df[(labels_df['tag_count'] == 6) & (labels_df['tags'].apply(lambda x: 'partly_cloudy' in x))]\n",
        "\n",
        "print(len(tag6_part_cloud_df))\n"
      ],
      "metadata": {
        "colab": {
          "base_uri": "https://localhost:8080/"
        },
        "id": "QxJIQDiGdCrp",
        "outputId": "de24e335-d899-4ef5-8bc9-fc8bc2c046c0"
      },
      "execution_count": 19,
      "outputs": [
        {
          "output_type": "stream",
          "name": "stdout",
          "text": [
            "136\n"
          ]
        }
      ]
    },
    {
      "cell_type": "code",
      "source": [
        "# The pool of images with 6 total tags contains 136 images tagged partly_cloudy\n",
        "# so we will now randomly select 57 to add to the main list\n",
        "# Filter rows where 'partly_cloudy' is in the tags and none of the excluded tags are present\n",
        "rows_to_drop2 = tag6_part_cloud_df[tag6_part_cloud_df['tags'].apply(lambda x: 'partly_cloudy' in x and not any(tag in x for tag in excluded_tags))]\n",
        "\n",
        "# Sample 79 rows from the filtered DataFrame\n",
        "if len(rows_to_drop2) > 79:\n",
        "    rows_to_drop2 = rows_to_drop2.sample(n=79, random_state=1)  # Using a fixed seed for reproducibility\n",
        "\n",
        "# Drop these rows from the original DataFrame\n",
        "clean_merged_df2 = tag6_part_cloud_df.drop(rows_to_drop2.index)\n",
        "\n",
        "# Display the modified DataFrame\n",
        "print(len(clean_merged_df2))\n"
      ],
      "metadata": {
        "colab": {
          "base_uri": "https://localhost:8080/"
        },
        "id": "tjNaW56XirMR",
        "outputId": "b043e381-393f-423c-987d-e16e6e66e119"
      },
      "execution_count": 20,
      "outputs": [
        {
          "output_type": "stream",
          "name": "stdout",
          "text": [
            "57\n"
          ]
        }
      ]
    },
    {
      "cell_type": "code",
      "source": [
        "# Now we need to randomly select the rest of the images with a haze tag from the\n",
        "# pool of images that have 5 tags total\n",
        "# Filter the DataFrame to find rows where 'tag_count' is 5 and 'tags' contains 'haze'\n",
        "tag5_haze_df = labels_df[(labels_df['tag_count'] == 5) & (labels_df['tags'].apply(lambda x: 'haze' in x))]\n",
        "\n",
        "print(len(tag5_haze_df))\n"
      ],
      "metadata": {
        "colab": {
          "base_uri": "https://localhost:8080/"
        },
        "id": "BmPEyesAd9Au",
        "outputId": "9c329f74-a3de-47b3-8a7d-d00ff4ea3aba"
      },
      "execution_count": 21,
      "outputs": [
        {
          "output_type": "stream",
          "name": "stdout",
          "text": [
            "140\n"
          ]
        }
      ]
    },
    {
      "cell_type": "code",
      "source": [
        "# Filter rows where 'haze' is in the tags and none of the excluded tags are present\n",
        "rows_to_drop3 = tag5_haze_df[tag5_haze_df['tags'].apply(lambda x: 'haze' in x and not any(tag in x for tag in excluded_tags))]\n",
        "\n",
        "# Sample 30 rows from the filtered DataFrame\n",
        "if len(rows_to_drop3) > 108:\n",
        "    rows_to_drop3 = rows_to_drop3.sample(n=108, random_state=1)  # Using a fixed seed for reproducibility\n",
        "\n",
        "# Drop these rows from the original DataFrame\n",
        "clean_merged_df3 = tag5_haze_df.drop(rows_to_drop3.index)\n",
        "\n",
        "# Display the modified DataFrame\n",
        "print(len(clean_merged_df3))"
      ],
      "metadata": {
        "colab": {
          "base_uri": "https://localhost:8080/"
        },
        "id": "Ai4_GxwUlIGs",
        "outputId": "a52e8a96-551f-4466-f2db-52b9776fdee2"
      },
      "execution_count": 24,
      "outputs": [
        {
          "output_type": "stream",
          "name": "stdout",
          "text": [
            "32\n"
          ]
        }
      ]
    },
    {
      "cell_type": "code",
      "source": [
        "# Merge the final dataframes of all the selected photos. Result is 206 with\n",
        "# a 68/68/69 split between clear, partly_cloudy, and haze while keeeping\n",
        "# as many images with the highest number of tags as possible\n",
        "combined_df = pd.concat([clean_merged_df3, clean_merged_df2, clean_merged_df], ignore_index=True)\n",
        "\n",
        "print(len(combined_df))\n",
        "print(combined_df)\n"
      ],
      "metadata": {
        "colab": {
          "base_uri": "https://localhost:8080/"
        },
        "id": "nVfLj4o8oOb2",
        "outputId": "c8ceb57c-7ddc-4eea-e099-3fae35d290d2"
      },
      "execution_count": 25,
      "outputs": [
        {
          "output_type": "stream",
          "name": "stdout",
          "text": [
            "206\n",
            "          image_name                                               tags  \\\n",
            "0      train_518.jpg          [agriculture, haze, primary, road, water]   \n",
            "1     train_2818.jpg          [agriculture, haze, primary, road, water]   \n",
            "2     train_3715.jpg    [agriculture, cultivation, haze, primary, road]   \n",
            "3     train_3931.jpg          [agriculture, haze, primary, road, water]   \n",
            "4     train_3969.jpg   [agriculture, cultivation, haze, primary, water]   \n",
            "..               ...                                                ...   \n",
            "201  train_33452.jpg  [cultivation, habitation, haze, primary, road,...   \n",
            "202  train_33860.jpg  [agriculture, habitation, haze, primary, road,...   \n",
            "203  train_35249.jpg  [agriculture, cultivation, haze, primary, road...   \n",
            "204  train_37481.jpg  [agriculture, cultivation, habitation, haze, p...   \n",
            "205  train_38283.jpg  [agriculture, cultivation, haze, primary, road...   \n",
            "\n",
            "                                          encoded_tags  tag_count  \n",
            "0    [1, 0, 0, 0, 0, 0, 0, 0, 0, 0, 1, 0, 1, 1, 0, ...          5  \n",
            "1    [1, 0, 0, 0, 0, 0, 0, 0, 0, 0, 1, 0, 1, 1, 0, ...          5  \n",
            "2    [1, 0, 0, 0, 0, 0, 0, 0, 1, 0, 1, 0, 1, 1, 0, ...          5  \n",
            "3    [1, 0, 0, 0, 0, 0, 0, 0, 0, 0, 1, 0, 1, 1, 0, ...          5  \n",
            "4    [1, 0, 0, 0, 0, 0, 0, 0, 1, 0, 1, 0, 1, 0, 0, ...          5  \n",
            "..                                                 ...        ...  \n",
            "201  [0, 0, 0, 0, 0, 0, 0, 0, 1, 1, 1, 0, 1, 1, 0, ...          6  \n",
            "202  [1, 0, 0, 0, 0, 0, 0, 0, 0, 1, 1, 0, 1, 1, 0, ...          6  \n",
            "203  [1, 0, 0, 0, 0, 0, 0, 0, 1, 0, 1, 0, 1, 1, 0, ...          6  \n",
            "204  [1, 0, 0, 0, 0, 0, 0, 0, 1, 1, 1, 0, 1, 1, 0, ...          6  \n",
            "205  [1, 0, 0, 0, 0, 0, 0, 0, 1, 0, 1, 0, 1, 1, 0, ...          6  \n",
            "\n",
            "[206 rows x 4 columns]\n"
          ]
        }
      ]
    },
    {
      "cell_type": "code",
      "source": [
        "# Flatten the list of tags from these filtered images and count each tag\n",
        "tag_counts_cdf = {}\n",
        "for tags_list in combined_df['tags']:\n",
        "    for tag in tags_list:\n",
        "        if tag in tag_counts_cdf:\n",
        "            tag_counts_cdf[tag] += 1\n",
        "        else:\n",
        "            tag_counts_cdf[tag] = 1\n",
        "\n",
        "# Convert the dictionary to a list of tuples sorted by the number of occurrences, descending\n",
        "sorted_tag_cdf = sorted(tag_counts_cdf.items(), key=lambda item: item[1], reverse=True)\n",
        "\n",
        "# Print the sorted list of tags and their counts\n",
        "for tag, count in sorted_tag_cdf:\n",
        "    print(f\"Tag: {tag}, Count: {count}\")"
      ],
      "metadata": {
        "colab": {
          "base_uri": "https://localhost:8080/"
        },
        "id": "bbiGek68oOeq",
        "outputId": "2a3804ac-3899-4910-ec80-5c7801c23a2a"
      },
      "execution_count": 26,
      "outputs": [
        {
          "output_type": "stream",
          "name": "stdout",
          "text": [
            "Tag: primary, Count: 205\n",
            "Tag: agriculture, Count: 185\n",
            "Tag: road, Count: 184\n",
            "Tag: habitation, Count: 158\n",
            "Tag: cultivation, Count: 145\n",
            "Tag: water, Count: 123\n",
            "Tag: partly_cloudy, Count: 69\n",
            "Tag: clear, Count: 69\n",
            "Tag: haze, Count: 68\n",
            "Tag: bare_ground, Count: 43\n",
            "Tag: artisinal_mine, Count: 18\n",
            "Tag: selective_logging, Count: 14\n",
            "Tag: conventional_mine, Count: 12\n",
            "Tag: slash_burn, Count: 12\n",
            "Tag: blooming, Count: 3\n"
          ]
        }
      ]
    },
    {
      "cell_type": "code",
      "source": [
        "# Now use the combined_dataframe to make copies of the images we selected\n",
        "# and place them in a new folder in the google drive\n",
        "source_dir = \"/content/drive/Shareddrives/computer-vision-project/Data/Unzipped/planet/planet/train-jpg/\"\n",
        "destination_dir = \"/content/drive/Shareddrives/computer-vision-project/Data/Unzipped/planet/planet/train_seg/\"\n",
        "\n",
        "if not os.path.exists(destination_dir):\n",
        "    os.makedirs(destination_dir)\n"
      ],
      "metadata": {
        "id": "-qi15kw0oOhi"
      },
      "execution_count": null,
      "outputs": []
    },
    {
      "cell_type": "code",
      "source": [
        "# Initialize a list to hold any images that couldnt be found\n",
        "not_found_files = []\n",
        "\n",
        "# Copy the files\n",
        "for image_name in combined_df['image_name']:\n",
        "    src_path = os.path.join(source_dir, image_name)\n",
        "    dst_path = os.path.join(destination_dir, image_name)\n",
        "    try:\n",
        "        # Try to copy the file to the new directory\n",
        "        shutil.copy(src_path, dst_path)\n",
        "    except FileNotFoundError:\n",
        "        # If the file is not found, append it to the list and continue\n",
        "        not_found_files.append(image_name)\n",
        "\n",
        "# Print the files that couldn't be found\n",
        "if not_found_files:\n",
        "    print(\"These files were not found and could not be copied:\")\n",
        "    for file in not_found_files:\n",
        "        print(file)"
      ],
      "metadata": {
        "colab": {
          "base_uri": "https://localhost:8080/"
        },
        "id": "HB3mTrFRoOmQ",
        "outputId": "c5ca6809-30ca-4fb3-d956-dcffa1659c11"
      },
      "execution_count": null,
      "outputs": [
        {
          "output_type": "stream",
          "name": "stdout",
          "text": [
            "These files were not found and could not be copied:\n",
            "train_7818.jpg\n",
            "train_8854.jpg\n",
            "train_9236.jpg\n",
            "train_8494.jpg\n",
            "train_8623.jpg\n",
            "train_9027.jpg\n",
            "train_7961.jpg\n",
            "train_8330.jpg\n",
            "train_8944.jpg\n",
            "train_9110.jpg\n",
            "train_9528.jpg\n",
            "train_9673.jpg\n",
            "train_7848.jpg\n"
          ]
        }
      ]
    },
    {
      "cell_type": "code",
      "source": [
        "# once all of the training segmentation images have been tagged in labelme\n",
        "# or somewhere else(only need to tag primary) the code below will create a binary\n",
        "# mask. The .yaml file will have 2 classes 1) primary 2)nonprimary\n",
        "\n",
        "source_dir = \"/content/drive/Shareddrives/computer-vision-project/Data/Unzipped/planet/planet/train_seg_tagged/\"\n",
        "output_mask_dir = os.path.join(source_dir, \"masks\")\n",
        "\n",
        "# Ensure the output directory for masks exists\n",
        "if not os.path.exists(output_mask_dir):\n",
        "    os.makedirs(output_mask_dir)\n",
        "\n",
        "# Assuming JSON and image files are in the same directory\n",
        "json_dir = source_dir\n",
        "image_dir = source_dir\n",
        "\n",
        "# Process each JSON file\n",
        "for json_filename in os.listdir(json_dir):\n",
        "    if json_filename.endswith('.json'):\n",
        "        json_path = os.path.join(json_dir, json_filename)\n",
        "        image_filename = json_filename.replace('.json', '.jpg')  # Change extension according to your image files\n",
        "        image_path = os.path.join(image_dir, image_filename)\n",
        "\n",
        "        # Load JSON data\n",
        "        with open(json_path, 'r') as file:\n",
        "            data = json.load(file)\n",
        "\n",
        "        # Create a blank mask\n",
        "        mask = np.zeros((data['imageHeight'], data['imageWidth']), dtype=np.uint8)\n",
        "\n",
        "        # Draw each polygon from the JSON onto the mask\n",
        "        for shape in data['shapes']:\n",
        "            if shape['shape_type'] == 'polygon':\n",
        "                pts = np.array(shape['points'], np.int32)\n",
        "                pts = pts.reshape((-1, 1, 2))\n",
        "                cv2.fillPoly(mask, [pts], 255)  # Fill polygon with white on the mask\n",
        "\n",
        "        # Save the mask to a file\n",
        "        mask_path = os.path.join(output_mask_dir, image_filename.replace('.jpg', '_mask.png'))  # Save mask with a new name\n",
        "        cv2.imwrite(mask_path, mask)\n"
      ],
      "metadata": {
        "id": "VauZ79J9yyaT"
      },
      "execution_count": 27,
      "outputs": []
    },
    {
      "cell_type": "code",
      "source": [
        "print(f\"Processing {json_filename}...\")\n",
        "if os.path.exists(mask_path):\n",
        "    print(f\"Mask saved successfully: {mask_path}\")\n",
        "else:\n",
        "    print(f\"Failed to save mask for {image_filename}\")\n"
      ],
      "metadata": {
        "id": "3pGThO6bzKqn",
        "colab": {
          "base_uri": "https://localhost:8080/"
        },
        "outputId": "9fb33f39-ff13-4adf-dc4e-d7bc9303739a"
      },
      "execution_count": 28,
      "outputs": [
        {
          "output_type": "stream",
          "name": "stdout",
          "text": [
            "Processing masks...\n",
            "Mask saved successfully: /content/drive/Shareddrives/computer-vision-project/Data/Unzipped/planet/planet/train_seg_tagged/masks/train_518_mask.png\n"
          ]
        }
      ]
    }
  ]
}